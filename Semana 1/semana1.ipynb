{
 "cells": [
  {
   "cell_type": "code",
   "execution_count": 2,
   "metadata": {},
   "outputs": [
    {
     "name": "stdout",
     "output_type": "stream",
     "text": [
      "{'nombre': ['Juan', 'Andres', 'Luis'], 'cédula': [123456, 234567, 345678], 'Edad': [15, 26, 28], 'Dirección': ['Cra. 1 N 25-85', 'Calle 6 N 14-58', 'Cra. 5 N 12-58']}\n",
      "   nombre  cédula  Edad        Dirección             email\n",
      "0    Juan  123456    15   Cra. 1 N 25-85    juan@gmail.com\n",
      "1  Andres  234567    26  Calle 6 N 14-58  andres@gmail.com\n",
      "2    Luis  345678    28   Cra. 5 N 12-58    luis@gmail.com\n"
     ]
    }
   ],
   "source": [
    "#Ejercicios para la semana 1\n",
    "import numpy as np\n",
    "import pandas as pd\n",
    "import matplotlib.pyplot as plt\n",
    "\n",
    "# Create a Dataset\n",
    "# Let's build the values lists\n",
    "\n",
    "value_n_list = ['Juan','Andres','Luis']\n",
    "value_id_list = [123456, 234567, 345678]\n",
    "value_age_list = [15, 26, 28]\n",
    "value_address_list = ['Cra. 1 N 25-85', 'Calle 6 N 14-58', 'Cra. 5 N 12-58']\n",
    " \n",
    "data_dict = {'nombre': value_n_list,\n",
    "             'cédula': value_id_list,\n",
    "             'Edad': value_age_list,\n",
    "             'Dirección': value_adress_list}\n",
    "\n",
    "print(data_dict)\n",
    "\n",
    "df = pd.DataFrame(data_dict)\n",
    "\n",
    "#print(df)\n",
    "\n",
    "df['email']= ['juan@gmail.com','andres@gmail.com','luis@gmail.com']\n",
    "\n",
    "print(df)"
   ]
  },
  {
   "cell_type": "code",
   "execution_count": 3,
   "metadata": {},
   "outputs": [
    {
     "name": "stdout",
     "output_type": "stream",
     "text": [
      "(50, 70, 90)\n"
     ]
    }
   ],
   "source": [
    "#Tuplas\n",
    "tuple_one = (10,20,30)\n",
    "tuple_two = (40,50,60)\n",
    "\n",
    "tuple_add = (tuple_one[0]+tuple_two[0], tuple_one[1]+tuple_two[1], tuple_one[2]+tuple_two[2])\n",
    "\n",
    "print(tuple_add)"
   ]
  }
 ],
 "metadata": {
  "kernelspec": {
   "display_name": ".env",
   "language": "python",
   "name": "python3"
  },
  "language_info": {
   "codemirror_mode": {
    "name": "ipython",
    "version": 3
   },
   "file_extension": ".py",
   "mimetype": "text/x-python",
   "name": "python",
   "nbconvert_exporter": "python",
   "pygments_lexer": "ipython3",
   "version": "3.11.4"
  }
 },
 "nbformat": 4,
 "nbformat_minor": 2
}
