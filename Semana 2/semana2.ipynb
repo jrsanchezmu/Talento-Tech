{
 "cells": [
  {
   "cell_type": "code",
   "execution_count": 18,
   "metadata": {},
   "outputs": [
    {
     "name": "stdout",
     "output_type": "stream",
     "text": [
      "[0, 2, 8, 18, 32, 50, 72, 98, 128, 162, 200]\n",
      "[0, 1, 4, 9, 16, 25, 36, 49, 64, 81, 100]\n"
     ]
    },
    {
     "data": {
      "text/plain": [
       "0.0"
      ]
     },
     "execution_count": 18,
     "metadata": {},
     "output_type": "execute_result"
    }
   ],
   "source": [
    "#Regresión Lineal\n",
    "import numpy as np\n",
    "import pandas as pd\n",
    "import matplotlib.pyplot as plt\n",
    "\n",
    "#Insercción de variables\n",
    "tuple_x = (0,1,2,3,4,5,6,7,8,9,10)\n",
    "tuple_y = (0,2,4,6,8,10,12,14,16,18,20)\n",
    "\n",
    "#Calculos algoritmo sugerido por Chatgpt\n",
    "\n",
    "list_xy = [x*y for x, y in zip(tuple_x, tuple_y)]\n",
    "list_x2 = [x**2 for x in tuple_x]\n",
    "\n",
    "# Cálculo de la pendiente y el intersecto \n",
    "\n",
    "m= (len(tuple_x)*sum(list_xy)-sum(tuple_x)*sum(tuple_y))/(len(tuple_x)*sum(list_x2)-(sum(tuple_x)**2))\n",
    "b= np.mean(tuple_y) - m*np.mean(tuple_x)\n",
    "\n",
    "\n",
    "print(list_xy)\n",
    "print(list_x2)\n",
    "\n",
    "#Cálculo de función y desviación estandar \n",
    "\n",
    "#y = m*tuple_x + b\n",
    "suma_cua= [ (y - (m*x + b))**2 for y, x in zip(tuple_y ,tuple_x)] \n",
    "sr = sum(suma_cua)\n",
    "\n",
    "sr"
   ]
  }
 ],
 "metadata": {
  "kernelspec": {
   "display_name": ".env",
   "language": "python",
   "name": "python3"
  },
  "language_info": {
   "codemirror_mode": {
    "name": "ipython",
    "version": 3
   },
   "file_extension": ".py",
   "mimetype": "text/x-python",
   "name": "python",
   "nbconvert_exporter": "python",
   "pygments_lexer": "ipython3",
   "version": "3.11.4"
  }
 },
 "nbformat": 4,
 "nbformat_minor": 2
}
