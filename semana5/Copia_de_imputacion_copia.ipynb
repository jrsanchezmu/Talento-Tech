{
  "cells": [
    {
      "cell_type": "markdown",
      "metadata": {
        "collapsed": false,
        "id": "gN4gPkLMLz6Q"
      },
      "source": [
        "# Imputacion de datos\n",
        "\n",
        "Tratar con datos faltantes implica que no siempre se pueden eliminar, sino que deben ser tratados con técnicas de imputación de datos\n",
        "En este cuaderno se explorarán algunos casos empleando el dataset de diabetes, el cual contiene la información de pacientes a los cuales se les realizaron mediciones de la prueba de diabetes y pruebas en sangre. El dataset se puede descargar de: https://www.kaggle.com/datasets/mathchi/diabetes-data-set"
      ]
    },
    {
      "cell_type": "markdown",
      "metadata": {
        "collapsed": false,
        "id": "DxVTEkR6Lz6Y"
      },
      "source": []
    },
    {
      "cell_type": "code",
      "execution_count": 3,
      "metadata": {
        "ExecuteTime": {
          "end_time": "2024-03-20T13:02:27.808166300Z",
          "start_time": "2024-03-20T13:02:26.356458200Z"
        },
        "colab": {
          "base_uri": "https://localhost:8080/"
        },
        "id": "io-Avs1FLz6Y",
        "outputId": "76c1eec3-c4cb-41b7-914f-f64712a2423d"
      },
      "outputs": [],
      "source": [
        "#!pip install plotly\n",
        "import numpy as np\n",
        "import pandas as pd\n",
        "\n",
        "from matplotlib import pyplot as plt\n",
        "import seaborn as sns\n",
        "import plotly.graph_objs as go\n",
        "import plotly.offline as py\n",
        "\n",
        "from sklearn.impute import SimpleImputer\n",
        "from sklearn.impute import KNNImputer\n",
        "from sklearn.experimental import enable_iterative_imputer\n",
        "from sklearn.impute import IterativeImputer\n",
        "from sklearn import linear_model\n",
        "from sklearn.preprocessing import MinMaxScaler"
      ]
    },
    {
      "cell_type": "code",
      "execution_count": 4,
      "metadata": {
        "ExecuteTime": {
          "end_time": "2024-03-20T13:02:27.821670200Z",
          "start_time": "2024-03-20T13:02:27.808665800Z"
        },
        "colab": {
          "base_uri": "https://localhost:8080/",
          "height": 226
        },
        "id": "FQvGK4WtLz6e",
        "outputId": "54b058c8-d889-41ee-cc58-256fd0cb4c9a"
      },
      "outputs": [
        {
          "data": {
            "text/html": [
              "<div>\n",
              "<style scoped>\n",
              "    .dataframe tbody tr th:only-of-type {\n",
              "        vertical-align: middle;\n",
              "    }\n",
              "\n",
              "    .dataframe tbody tr th {\n",
              "        vertical-align: top;\n",
              "    }\n",
              "\n",
              "    .dataframe thead th {\n",
              "        text-align: right;\n",
              "    }\n",
              "</style>\n",
              "<table border=\"1\" class=\"dataframe\">\n",
              "  <thead>\n",
              "    <tr style=\"text-align: right;\">\n",
              "      <th></th>\n",
              "      <th>Pregnancies</th>\n",
              "      <th>Glucose</th>\n",
              "      <th>BloodPressure</th>\n",
              "      <th>SkinThickness</th>\n",
              "      <th>Insulin</th>\n",
              "      <th>BMI</th>\n",
              "      <th>DiabetesPedigreeFunction</th>\n",
              "      <th>Age</th>\n",
              "      <th>Outcome</th>\n",
              "    </tr>\n",
              "  </thead>\n",
              "  <tbody>\n",
              "    <tr>\n",
              "      <th>0</th>\n",
              "      <td>6</td>\n",
              "      <td>148</td>\n",
              "      <td>72</td>\n",
              "      <td>35</td>\n",
              "      <td>0</td>\n",
              "      <td>33.6</td>\n",
              "      <td>0.627</td>\n",
              "      <td>50</td>\n",
              "      <td>1</td>\n",
              "    </tr>\n",
              "    <tr>\n",
              "      <th>1</th>\n",
              "      <td>1</td>\n",
              "      <td>85</td>\n",
              "      <td>66</td>\n",
              "      <td>29</td>\n",
              "      <td>0</td>\n",
              "      <td>26.6</td>\n",
              "      <td>0.351</td>\n",
              "      <td>31</td>\n",
              "      <td>0</td>\n",
              "    </tr>\n",
              "    <tr>\n",
              "      <th>2</th>\n",
              "      <td>8</td>\n",
              "      <td>183</td>\n",
              "      <td>64</td>\n",
              "      <td>0</td>\n",
              "      <td>0</td>\n",
              "      <td>23.3</td>\n",
              "      <td>0.672</td>\n",
              "      <td>32</td>\n",
              "      <td>1</td>\n",
              "    </tr>\n",
              "    <tr>\n",
              "      <th>3</th>\n",
              "      <td>1</td>\n",
              "      <td>89</td>\n",
              "      <td>66</td>\n",
              "      <td>23</td>\n",
              "      <td>94</td>\n",
              "      <td>28.1</td>\n",
              "      <td>0.167</td>\n",
              "      <td>21</td>\n",
              "      <td>0</td>\n",
              "    </tr>\n",
              "    <tr>\n",
              "      <th>4</th>\n",
              "      <td>0</td>\n",
              "      <td>137</td>\n",
              "      <td>40</td>\n",
              "      <td>35</td>\n",
              "      <td>168</td>\n",
              "      <td>43.1</td>\n",
              "      <td>2.288</td>\n",
              "      <td>33</td>\n",
              "      <td>1</td>\n",
              "    </tr>\n",
              "  </tbody>\n",
              "</table>\n",
              "</div>"
            ],
            "text/plain": [
              "   Pregnancies  Glucose  BloodPressure  SkinThickness  Insulin   BMI  \\\n",
              "0            6      148             72             35        0  33.6   \n",
              "1            1       85             66             29        0  26.6   \n",
              "2            8      183             64              0        0  23.3   \n",
              "3            1       89             66             23       94  28.1   \n",
              "4            0      137             40             35      168  43.1   \n",
              "\n",
              "   DiabetesPedigreeFunction  Age  Outcome  \n",
              "0                     0.627   50        1  \n",
              "1                     0.351   31        0  \n",
              "2                     0.672   32        1  \n",
              "3                     0.167   21        0  \n",
              "4                     2.288   33        1  "
            ]
          },
          "execution_count": 4,
          "metadata": {},
          "output_type": "execute_result"
        }
      ],
      "source": [
        "df = pd.read_csv(\"diabetes.csv\")\n",
        "df.head()"
      ]
    },
    {
      "cell_type": "code",
      "execution_count": 5,
      "metadata": {
        "ExecuteTime": {
          "end_time": "2024-03-20T13:02:27.824171100Z",
          "start_time": "2024-03-20T13:02:27.822173Z"
        },
        "id": "ix-ndfTkLz6g"
      },
      "outputs": [],
      "source": [
        "# cambiando nombres para facilitar la escritura del codigo\n",
        "df.rename(columns ={\"DiabetesPedigreeFunction\":\"DPF\"},inplace=True)"
      ]
    },
    {
      "cell_type": "code",
      "execution_count": 6,
      "metadata": {
        "ExecuteTime": {
          "end_time": "2024-03-20T13:02:27.890173600Z",
          "start_time": "2024-03-20T13:02:27.829171300Z"
        },
        "colab": {
          "base_uri": "https://localhost:8080/",
          "height": 351
        },
        "id": "ArzqLmZWLz6g",
        "outputId": "4ee68d4e-fd68-4aee-f620-e645154ca519"
      },
      "outputs": [
        {
          "data": {
            "text/html": [
              "<div>\n",
              "<style scoped>\n",
              "    .dataframe tbody tr th:only-of-type {\n",
              "        vertical-align: middle;\n",
              "    }\n",
              "\n",
              "    .dataframe tbody tr th {\n",
              "        vertical-align: top;\n",
              "    }\n",
              "\n",
              "    .dataframe thead th {\n",
              "        text-align: right;\n",
              "    }\n",
              "</style>\n",
              "<table border=\"1\" class=\"dataframe\">\n",
              "  <thead>\n",
              "    <tr style=\"text-align: right;\">\n",
              "      <th></th>\n",
              "      <th>count</th>\n",
              "      <th>mean</th>\n",
              "      <th>std</th>\n",
              "      <th>min</th>\n",
              "      <th>1%</th>\n",
              "      <th>5%</th>\n",
              "      <th>50%</th>\n",
              "      <th>75%</th>\n",
              "      <th>90%</th>\n",
              "      <th>99%</th>\n",
              "      <th>max</th>\n",
              "    </tr>\n",
              "  </thead>\n",
              "  <tbody>\n",
              "    <tr>\n",
              "      <th>Pregnancies</th>\n",
              "      <td>768.0</td>\n",
              "      <td>3.845052</td>\n",
              "      <td>3.369578</td>\n",
              "      <td>0.000</td>\n",
              "      <td>0.00000</td>\n",
              "      <td>0.00000</td>\n",
              "      <td>3.0000</td>\n",
              "      <td>6.00000</td>\n",
              "      <td>9.0000</td>\n",
              "      <td>13.00000</td>\n",
              "      <td>17.00</td>\n",
              "    </tr>\n",
              "    <tr>\n",
              "      <th>Glucose</th>\n",
              "      <td>768.0</td>\n",
              "      <td>120.894531</td>\n",
              "      <td>31.972618</td>\n",
              "      <td>0.000</td>\n",
              "      <td>57.00000</td>\n",
              "      <td>79.00000</td>\n",
              "      <td>117.0000</td>\n",
              "      <td>140.25000</td>\n",
              "      <td>167.0000</td>\n",
              "      <td>196.00000</td>\n",
              "      <td>199.00</td>\n",
              "    </tr>\n",
              "    <tr>\n",
              "      <th>BloodPressure</th>\n",
              "      <td>768.0</td>\n",
              "      <td>69.105469</td>\n",
              "      <td>19.355807</td>\n",
              "      <td>0.000</td>\n",
              "      <td>0.00000</td>\n",
              "      <td>38.70000</td>\n",
              "      <td>72.0000</td>\n",
              "      <td>80.00000</td>\n",
              "      <td>88.0000</td>\n",
              "      <td>106.00000</td>\n",
              "      <td>122.00</td>\n",
              "    </tr>\n",
              "    <tr>\n",
              "      <th>SkinThickness</th>\n",
              "      <td>768.0</td>\n",
              "      <td>20.536458</td>\n",
              "      <td>15.952218</td>\n",
              "      <td>0.000</td>\n",
              "      <td>0.00000</td>\n",
              "      <td>0.00000</td>\n",
              "      <td>23.0000</td>\n",
              "      <td>32.00000</td>\n",
              "      <td>40.0000</td>\n",
              "      <td>51.33000</td>\n",
              "      <td>99.00</td>\n",
              "    </tr>\n",
              "    <tr>\n",
              "      <th>Insulin</th>\n",
              "      <td>768.0</td>\n",
              "      <td>79.799479</td>\n",
              "      <td>115.244002</td>\n",
              "      <td>0.000</td>\n",
              "      <td>0.00000</td>\n",
              "      <td>0.00000</td>\n",
              "      <td>30.5000</td>\n",
              "      <td>127.25000</td>\n",
              "      <td>210.0000</td>\n",
              "      <td>519.90000</td>\n",
              "      <td>846.00</td>\n",
              "    </tr>\n",
              "    <tr>\n",
              "      <th>BMI</th>\n",
              "      <td>768.0</td>\n",
              "      <td>31.992578</td>\n",
              "      <td>7.884160</td>\n",
              "      <td>0.000</td>\n",
              "      <td>0.00000</td>\n",
              "      <td>21.80000</td>\n",
              "      <td>32.0000</td>\n",
              "      <td>36.60000</td>\n",
              "      <td>41.5000</td>\n",
              "      <td>50.75900</td>\n",
              "      <td>67.10</td>\n",
              "    </tr>\n",
              "    <tr>\n",
              "      <th>DPF</th>\n",
              "      <td>768.0</td>\n",
              "      <td>0.471876</td>\n",
              "      <td>0.331329</td>\n",
              "      <td>0.078</td>\n",
              "      <td>0.09468</td>\n",
              "      <td>0.14035</td>\n",
              "      <td>0.3725</td>\n",
              "      <td>0.62625</td>\n",
              "      <td>0.8786</td>\n",
              "      <td>1.69833</td>\n",
              "      <td>2.42</td>\n",
              "    </tr>\n",
              "    <tr>\n",
              "      <th>Age</th>\n",
              "      <td>768.0</td>\n",
              "      <td>33.240885</td>\n",
              "      <td>11.760232</td>\n",
              "      <td>21.000</td>\n",
              "      <td>21.00000</td>\n",
              "      <td>21.00000</td>\n",
              "      <td>29.0000</td>\n",
              "      <td>41.00000</td>\n",
              "      <td>51.0000</td>\n",
              "      <td>67.00000</td>\n",
              "      <td>81.00</td>\n",
              "    </tr>\n",
              "    <tr>\n",
              "      <th>Outcome</th>\n",
              "      <td>768.0</td>\n",
              "      <td>0.348958</td>\n",
              "      <td>0.476951</td>\n",
              "      <td>0.000</td>\n",
              "      <td>0.00000</td>\n",
              "      <td>0.00000</td>\n",
              "      <td>0.0000</td>\n",
              "      <td>1.00000</td>\n",
              "      <td>1.0000</td>\n",
              "      <td>1.00000</td>\n",
              "      <td>1.00</td>\n",
              "    </tr>\n",
              "  </tbody>\n",
              "</table>\n",
              "</div>"
            ],
            "text/plain": [
              "               count        mean         std     min        1%        5%  \\\n",
              "Pregnancies    768.0    3.845052    3.369578   0.000   0.00000   0.00000   \n",
              "Glucose        768.0  120.894531   31.972618   0.000  57.00000  79.00000   \n",
              "BloodPressure  768.0   69.105469   19.355807   0.000   0.00000  38.70000   \n",
              "SkinThickness  768.0   20.536458   15.952218   0.000   0.00000   0.00000   \n",
              "Insulin        768.0   79.799479  115.244002   0.000   0.00000   0.00000   \n",
              "BMI            768.0   31.992578    7.884160   0.000   0.00000  21.80000   \n",
              "DPF            768.0    0.471876    0.331329   0.078   0.09468   0.14035   \n",
              "Age            768.0   33.240885   11.760232  21.000  21.00000  21.00000   \n",
              "Outcome        768.0    0.348958    0.476951   0.000   0.00000   0.00000   \n",
              "\n",
              "                    50%        75%       90%        99%     max  \n",
              "Pregnancies      3.0000    6.00000    9.0000   13.00000   17.00  \n",
              "Glucose        117.0000  140.25000  167.0000  196.00000  199.00  \n",
              "BloodPressure   72.0000   80.00000   88.0000  106.00000  122.00  \n",
              "SkinThickness   23.0000   32.00000   40.0000   51.33000   99.00  \n",
              "Insulin         30.5000  127.25000  210.0000  519.90000  846.00  \n",
              "BMI             32.0000   36.60000   41.5000   50.75900   67.10  \n",
              "DPF              0.3725    0.62625    0.8786    1.69833    2.42  \n",
              "Age             29.0000   41.00000   51.0000   67.00000   81.00  \n",
              "Outcome          0.0000    1.00000    1.0000    1.00000    1.00  "
            ]
          },
          "execution_count": 6,
          "metadata": {},
          "output_type": "execute_result"
        }
      ],
      "source": [
        "# explorando los datos\n",
        "df.describe([0.01, 0.05, 0.75, 0.90, 0.99]).T"
      ]
    },
    {
      "cell_type": "code",
      "execution_count": 7,
      "metadata": {
        "ExecuteTime": {
          "end_time": "2024-03-20T13:02:27.922675700Z",
          "start_time": "2024-03-20T13:02:27.851169800Z"
        },
        "colab": {
          "base_uri": "https://localhost:8080/",
          "height": 206
        },
        "id": "_7k3NLZPLz6h",
        "outputId": "cc6ae9c2-1b44-43ed-8ca7-0bf68f2ba990"
      },
      "outputs": [
        {
          "data": {
            "text/html": [
              "<div>\n",
              "<style scoped>\n",
              "    .dataframe tbody tr th:only-of-type {\n",
              "        vertical-align: middle;\n",
              "    }\n",
              "\n",
              "    .dataframe tbody tr th {\n",
              "        vertical-align: top;\n",
              "    }\n",
              "\n",
              "    .dataframe thead th {\n",
              "        text-align: right;\n",
              "    }\n",
              "</style>\n",
              "<table border=\"1\" class=\"dataframe\">\n",
              "  <thead>\n",
              "    <tr style=\"text-align: right;\">\n",
              "      <th></th>\n",
              "      <th>Pregnancies</th>\n",
              "      <th>Glucose</th>\n",
              "      <th>BloodPressure</th>\n",
              "      <th>SkinThickness</th>\n",
              "      <th>Insulin</th>\n",
              "      <th>BMI</th>\n",
              "      <th>DPF</th>\n",
              "      <th>Age</th>\n",
              "      <th>Outcome</th>\n",
              "    </tr>\n",
              "  </thead>\n",
              "  <tbody>\n",
              "    <tr>\n",
              "      <th>0</th>\n",
              "      <td>6</td>\n",
              "      <td>148.0</td>\n",
              "      <td>72.0</td>\n",
              "      <td>35.0</td>\n",
              "      <td>NaN</td>\n",
              "      <td>33.6</td>\n",
              "      <td>0.627</td>\n",
              "      <td>50</td>\n",
              "      <td>1</td>\n",
              "    </tr>\n",
              "    <tr>\n",
              "      <th>1</th>\n",
              "      <td>1</td>\n",
              "      <td>85.0</td>\n",
              "      <td>66.0</td>\n",
              "      <td>29.0</td>\n",
              "      <td>NaN</td>\n",
              "      <td>26.6</td>\n",
              "      <td>0.351</td>\n",
              "      <td>31</td>\n",
              "      <td>0</td>\n",
              "    </tr>\n",
              "    <tr>\n",
              "      <th>2</th>\n",
              "      <td>8</td>\n",
              "      <td>183.0</td>\n",
              "      <td>64.0</td>\n",
              "      <td>NaN</td>\n",
              "      <td>NaN</td>\n",
              "      <td>23.3</td>\n",
              "      <td>0.672</td>\n",
              "      <td>32</td>\n",
              "      <td>1</td>\n",
              "    </tr>\n",
              "    <tr>\n",
              "      <th>3</th>\n",
              "      <td>1</td>\n",
              "      <td>89.0</td>\n",
              "      <td>66.0</td>\n",
              "      <td>23.0</td>\n",
              "      <td>94.0</td>\n",
              "      <td>28.1</td>\n",
              "      <td>0.167</td>\n",
              "      <td>21</td>\n",
              "      <td>0</td>\n",
              "    </tr>\n",
              "    <tr>\n",
              "      <th>4</th>\n",
              "      <td>0</td>\n",
              "      <td>137.0</td>\n",
              "      <td>40.0</td>\n",
              "      <td>35.0</td>\n",
              "      <td>168.0</td>\n",
              "      <td>43.1</td>\n",
              "      <td>2.288</td>\n",
              "      <td>33</td>\n",
              "      <td>1</td>\n",
              "    </tr>\n",
              "  </tbody>\n",
              "</table>\n",
              "</div>"
            ],
            "text/plain": [
              "   Pregnancies  Glucose  BloodPressure  SkinThickness  Insulin   BMI    DPF  \\\n",
              "0            6    148.0           72.0           35.0      NaN  33.6  0.627   \n",
              "1            1     85.0           66.0           29.0      NaN  26.6  0.351   \n",
              "2            8    183.0           64.0            NaN      NaN  23.3  0.672   \n",
              "3            1     89.0           66.0           23.0     94.0  28.1  0.167   \n",
              "4            0    137.0           40.0           35.0    168.0  43.1  2.288   \n",
              "\n",
              "   Age  Outcome  \n",
              "0   50        1  \n",
              "1   31        0  \n",
              "2   32        1  \n",
              "3   21        0  \n",
              "4   33        1  "
            ]
          },
          "execution_count": 7,
          "metadata": {},
          "output_type": "execute_result"
        }
      ],
      "source": [
        "# Para las columnas que no pueden ser cero, se reemplaza por NAN, con eso se elimina el sesgo que pueden introducir datos, por ejemplo, no tiene sentido que la presión de la sangre sea cero, o que el grosor de la piel sea cero, ni el índice de masa corporal\n",
        "df[['Glucose','BloodPressure','SkinThickness','Insulin','BMI']] = df[['Glucose','BloodPressure','SkinThickness','Insulin','BMI']].replace(0,np.NaN)\n",
        "df.head()"
      ]
    },
    {
      "cell_type": "code",
      "execution_count": 8,
      "metadata": {
        "ExecuteTime": {
          "end_time": "2024-03-20T13:02:27.931175800Z",
          "start_time": "2024-03-20T13:02:27.861665100Z"
        },
        "id": "vHBJYN_CLz6j"
      },
      "outputs": [],
      "source": [
        "# Creando un gráfico de datos faltantes para conocer cuantos valores incompletos hay en el conjunto de datos\n",
        "def missing_plot(dataset, key) :\n",
        "    null_feat = pd.DataFrame(len(dataset[key]) - dataset.isnull().sum(), columns = ['Count'])\n",
        "    percentage_null = pd.DataFrame((len(dataset[key]) - (len(dataset[key]) - dataset.isnull().sum()))/len(dataset[key])*100, columns = ['Count'])\n",
        "    percentage_null = percentage_null.round(2)\n",
        "\n",
        "    trace = go.Bar(x = null_feat.index, y = null_feat['Count'] ,opacity = 0.8, text = percentage_null['Count'],  textposition = 'auto',marker=dict(color = '#7EC0EE',\n",
        "            line=dict(color='#000000',width=1.5)))\n",
        "\n",
        "    layout = dict(title =  \"Missing Values (count & %)\")\n",
        "\n",
        "    fig = dict(data = [trace], layout=layout)\n",
        "    py.iplot(fig)"
      ]
    },
    {
      "cell_type": "code",
      "execution_count": 9,
      "metadata": {
        "ExecuteTime": {
          "end_time": "2024-03-20T13:02:27.949179200Z",
          "start_time": "2024-03-20T13:02:27.890676300Z"
        },
        "colab": {
          "base_uri": "https://localhost:8080/",
          "height": 542
        },
        "id": "hPE0RbO5Lz6k",
        "outputId": "b588c708-b5a8-42d7-a6f8-bb85de362482"
      },
      "outputs": [
        {
          "data": {
            "application/vnd.plotly.v1+json": {
              "config": {
                "linkText": "Export to plot.ly",
                "plotlyServerURL": "https://plot.ly",
                "showLink": false
              },
              "data": [
                {
                  "marker": {
                    "color": "#7EC0EE",
                    "line": {
                      "color": "#000000",
                      "width": 1.5
                    }
                  },
                  "opacity": 0.8,
                  "text": [
                    0,
                    0.65,
                    4.56,
                    29.56,
                    48.7,
                    1.43,
                    0,
                    0,
                    0
                  ],
                  "textposition": "auto",
                  "type": "bar",
                  "x": [
                    "Pregnancies",
                    "Glucose",
                    "BloodPressure",
                    "SkinThickness",
                    "Insulin",
                    "BMI",
                    "DPF",
                    "Age",
                    "Outcome"
                  ],
                  "y": [
                    768,
                    763,
                    733,
                    541,
                    394,
                    757,
                    768,
                    768,
                    768
                  ]
                }
              ],
              "layout": {
                "template": {
                  "data": {
                    "bar": [
                      {
                        "error_x": {
                          "color": "#2a3f5f"
                        },
                        "error_y": {
                          "color": "#2a3f5f"
                        },
                        "marker": {
                          "line": {
                            "color": "#E5ECF6",
                            "width": 0.5
                          },
                          "pattern": {
                            "fillmode": "overlay",
                            "size": 10,
                            "solidity": 0.2
                          }
                        },
                        "type": "bar"
                      }
                    ],
                    "barpolar": [
                      {
                        "marker": {
                          "line": {
                            "color": "#E5ECF6",
                            "width": 0.5
                          },
                          "pattern": {
                            "fillmode": "overlay",
                            "size": 10,
                            "solidity": 0.2
                          }
                        },
                        "type": "barpolar"
                      }
                    ],
                    "carpet": [
                      {
                        "aaxis": {
                          "endlinecolor": "#2a3f5f",
                          "gridcolor": "white",
                          "linecolor": "white",
                          "minorgridcolor": "white",
                          "startlinecolor": "#2a3f5f"
                        },
                        "baxis": {
                          "endlinecolor": "#2a3f5f",
                          "gridcolor": "white",
                          "linecolor": "white",
                          "minorgridcolor": "white",
                          "startlinecolor": "#2a3f5f"
                        },
                        "type": "carpet"
                      }
                    ],
                    "choropleth": [
                      {
                        "colorbar": {
                          "outlinewidth": 0,
                          "ticks": ""
                        },
                        "type": "choropleth"
                      }
                    ],
                    "contour": [
                      {
                        "colorbar": {
                          "outlinewidth": 0,
                          "ticks": ""
                        },
                        "colorscale": [
                          [
                            0,
                            "#0d0887"
                          ],
                          [
                            0.1111111111111111,
                            "#46039f"
                          ],
                          [
                            0.2222222222222222,
                            "#7201a8"
                          ],
                          [
                            0.3333333333333333,
                            "#9c179e"
                          ],
                          [
                            0.4444444444444444,
                            "#bd3786"
                          ],
                          [
                            0.5555555555555556,
                            "#d8576b"
                          ],
                          [
                            0.6666666666666666,
                            "#ed7953"
                          ],
                          [
                            0.7777777777777778,
                            "#fb9f3a"
                          ],
                          [
                            0.8888888888888888,
                            "#fdca26"
                          ],
                          [
                            1,
                            "#f0f921"
                          ]
                        ],
                        "type": "contour"
                      }
                    ],
                    "contourcarpet": [
                      {
                        "colorbar": {
                          "outlinewidth": 0,
                          "ticks": ""
                        },
                        "type": "contourcarpet"
                      }
                    ],
                    "heatmap": [
                      {
                        "colorbar": {
                          "outlinewidth": 0,
                          "ticks": ""
                        },
                        "colorscale": [
                          [
                            0,
                            "#0d0887"
                          ],
                          [
                            0.1111111111111111,
                            "#46039f"
                          ],
                          [
                            0.2222222222222222,
                            "#7201a8"
                          ],
                          [
                            0.3333333333333333,
                            "#9c179e"
                          ],
                          [
                            0.4444444444444444,
                            "#bd3786"
                          ],
                          [
                            0.5555555555555556,
                            "#d8576b"
                          ],
                          [
                            0.6666666666666666,
                            "#ed7953"
                          ],
                          [
                            0.7777777777777778,
                            "#fb9f3a"
                          ],
                          [
                            0.8888888888888888,
                            "#fdca26"
                          ],
                          [
                            1,
                            "#f0f921"
                          ]
                        ],
                        "type": "heatmap"
                      }
                    ],
                    "heatmapgl": [
                      {
                        "colorbar": {
                          "outlinewidth": 0,
                          "ticks": ""
                        },
                        "colorscale": [
                          [
                            0,
                            "#0d0887"
                          ],
                          [
                            0.1111111111111111,
                            "#46039f"
                          ],
                          [
                            0.2222222222222222,
                            "#7201a8"
                          ],
                          [
                            0.3333333333333333,
                            "#9c179e"
                          ],
                          [
                            0.4444444444444444,
                            "#bd3786"
                          ],
                          [
                            0.5555555555555556,
                            "#d8576b"
                          ],
                          [
                            0.6666666666666666,
                            "#ed7953"
                          ],
                          [
                            0.7777777777777778,
                            "#fb9f3a"
                          ],
                          [
                            0.8888888888888888,
                            "#fdca26"
                          ],
                          [
                            1,
                            "#f0f921"
                          ]
                        ],
                        "type": "heatmapgl"
                      }
                    ],
                    "histogram": [
                      {
                        "marker": {
                          "pattern": {
                            "fillmode": "overlay",
                            "size": 10,
                            "solidity": 0.2
                          }
                        },
                        "type": "histogram"
                      }
                    ],
                    "histogram2d": [
                      {
                        "colorbar": {
                          "outlinewidth": 0,
                          "ticks": ""
                        },
                        "colorscale": [
                          [
                            0,
                            "#0d0887"
                          ],
                          [
                            0.1111111111111111,
                            "#46039f"
                          ],
                          [
                            0.2222222222222222,
                            "#7201a8"
                          ],
                          [
                            0.3333333333333333,
                            "#9c179e"
                          ],
                          [
                            0.4444444444444444,
                            "#bd3786"
                          ],
                          [
                            0.5555555555555556,
                            "#d8576b"
                          ],
                          [
                            0.6666666666666666,
                            "#ed7953"
                          ],
                          [
                            0.7777777777777778,
                            "#fb9f3a"
                          ],
                          [
                            0.8888888888888888,
                            "#fdca26"
                          ],
                          [
                            1,
                            "#f0f921"
                          ]
                        ],
                        "type": "histogram2d"
                      }
                    ],
                    "histogram2dcontour": [
                      {
                        "colorbar": {
                          "outlinewidth": 0,
                          "ticks": ""
                        },
                        "colorscale": [
                          [
                            0,
                            "#0d0887"
                          ],
                          [
                            0.1111111111111111,
                            "#46039f"
                          ],
                          [
                            0.2222222222222222,
                            "#7201a8"
                          ],
                          [
                            0.3333333333333333,
                            "#9c179e"
                          ],
                          [
                            0.4444444444444444,
                            "#bd3786"
                          ],
                          [
                            0.5555555555555556,
                            "#d8576b"
                          ],
                          [
                            0.6666666666666666,
                            "#ed7953"
                          ],
                          [
                            0.7777777777777778,
                            "#fb9f3a"
                          ],
                          [
                            0.8888888888888888,
                            "#fdca26"
                          ],
                          [
                            1,
                            "#f0f921"
                          ]
                        ],
                        "type": "histogram2dcontour"
                      }
                    ],
                    "mesh3d": [
                      {
                        "colorbar": {
                          "outlinewidth": 0,
                          "ticks": ""
                        },
                        "type": "mesh3d"
                      }
                    ],
                    "parcoords": [
                      {
                        "line": {
                          "colorbar": {
                            "outlinewidth": 0,
                            "ticks": ""
                          }
                        },
                        "type": "parcoords"
                      }
                    ],
                    "pie": [
                      {
                        "automargin": true,
                        "type": "pie"
                      }
                    ],
                    "scatter": [
                      {
                        "fillpattern": {
                          "fillmode": "overlay",
                          "size": 10,
                          "solidity": 0.2
                        },
                        "type": "scatter"
                      }
                    ],
                    "scatter3d": [
                      {
                        "line": {
                          "colorbar": {
                            "outlinewidth": 0,
                            "ticks": ""
                          }
                        },
                        "marker": {
                          "colorbar": {
                            "outlinewidth": 0,
                            "ticks": ""
                          }
                        },
                        "type": "scatter3d"
                      }
                    ],
                    "scattercarpet": [
                      {
                        "marker": {
                          "colorbar": {
                            "outlinewidth": 0,
                            "ticks": ""
                          }
                        },
                        "type": "scattercarpet"
                      }
                    ],
                    "scattergeo": [
                      {
                        "marker": {
                          "colorbar": {
                            "outlinewidth": 0,
                            "ticks": ""
                          }
                        },
                        "type": "scattergeo"
                      }
                    ],
                    "scattergl": [
                      {
                        "marker": {
                          "colorbar": {
                            "outlinewidth": 0,
                            "ticks": ""
                          }
                        },
                        "type": "scattergl"
                      }
                    ],
                    "scattermapbox": [
                      {
                        "marker": {
                          "colorbar": {
                            "outlinewidth": 0,
                            "ticks": ""
                          }
                        },
                        "type": "scattermapbox"
                      }
                    ],
                    "scatterpolar": [
                      {
                        "marker": {
                          "colorbar": {
                            "outlinewidth": 0,
                            "ticks": ""
                          }
                        },
                        "type": "scatterpolar"
                      }
                    ],
                    "scatterpolargl": [
                      {
                        "marker": {
                          "colorbar": {
                            "outlinewidth": 0,
                            "ticks": ""
                          }
                        },
                        "type": "scatterpolargl"
                      }
                    ],
                    "scatterternary": [
                      {
                        "marker": {
                          "colorbar": {
                            "outlinewidth": 0,
                            "ticks": ""
                          }
                        },
                        "type": "scatterternary"
                      }
                    ],
                    "surface": [
                      {
                        "colorbar": {
                          "outlinewidth": 0,
                          "ticks": ""
                        },
                        "colorscale": [
                          [
                            0,
                            "#0d0887"
                          ],
                          [
                            0.1111111111111111,
                            "#46039f"
                          ],
                          [
                            0.2222222222222222,
                            "#7201a8"
                          ],
                          [
                            0.3333333333333333,
                            "#9c179e"
                          ],
                          [
                            0.4444444444444444,
                            "#bd3786"
                          ],
                          [
                            0.5555555555555556,
                            "#d8576b"
                          ],
                          [
                            0.6666666666666666,
                            "#ed7953"
                          ],
                          [
                            0.7777777777777778,
                            "#fb9f3a"
                          ],
                          [
                            0.8888888888888888,
                            "#fdca26"
                          ],
                          [
                            1,
                            "#f0f921"
                          ]
                        ],
                        "type": "surface"
                      }
                    ],
                    "table": [
                      {
                        "cells": {
                          "fill": {
                            "color": "#EBF0F8"
                          },
                          "line": {
                            "color": "white"
                          }
                        },
                        "header": {
                          "fill": {
                            "color": "#C8D4E3"
                          },
                          "line": {
                            "color": "white"
                          }
                        },
                        "type": "table"
                      }
                    ]
                  },
                  "layout": {
                    "annotationdefaults": {
                      "arrowcolor": "#2a3f5f",
                      "arrowhead": 0,
                      "arrowwidth": 1
                    },
                    "autotypenumbers": "strict",
                    "coloraxis": {
                      "colorbar": {
                        "outlinewidth": 0,
                        "ticks": ""
                      }
                    },
                    "colorscale": {
                      "diverging": [
                        [
                          0,
                          "#8e0152"
                        ],
                        [
                          0.1,
                          "#c51b7d"
                        ],
                        [
                          0.2,
                          "#de77ae"
                        ],
                        [
                          0.3,
                          "#f1b6da"
                        ],
                        [
                          0.4,
                          "#fde0ef"
                        ],
                        [
                          0.5,
                          "#f7f7f7"
                        ],
                        [
                          0.6,
                          "#e6f5d0"
                        ],
                        [
                          0.7,
                          "#b8e186"
                        ],
                        [
                          0.8,
                          "#7fbc41"
                        ],
                        [
                          0.9,
                          "#4d9221"
                        ],
                        [
                          1,
                          "#276419"
                        ]
                      ],
                      "sequential": [
                        [
                          0,
                          "#0d0887"
                        ],
                        [
                          0.1111111111111111,
                          "#46039f"
                        ],
                        [
                          0.2222222222222222,
                          "#7201a8"
                        ],
                        [
                          0.3333333333333333,
                          "#9c179e"
                        ],
                        [
                          0.4444444444444444,
                          "#bd3786"
                        ],
                        [
                          0.5555555555555556,
                          "#d8576b"
                        ],
                        [
                          0.6666666666666666,
                          "#ed7953"
                        ],
                        [
                          0.7777777777777778,
                          "#fb9f3a"
                        ],
                        [
                          0.8888888888888888,
                          "#fdca26"
                        ],
                        [
                          1,
                          "#f0f921"
                        ]
                      ],
                      "sequentialminus": [
                        [
                          0,
                          "#0d0887"
                        ],
                        [
                          0.1111111111111111,
                          "#46039f"
                        ],
                        [
                          0.2222222222222222,
                          "#7201a8"
                        ],
                        [
                          0.3333333333333333,
                          "#9c179e"
                        ],
                        [
                          0.4444444444444444,
                          "#bd3786"
                        ],
                        [
                          0.5555555555555556,
                          "#d8576b"
                        ],
                        [
                          0.6666666666666666,
                          "#ed7953"
                        ],
                        [
                          0.7777777777777778,
                          "#fb9f3a"
                        ],
                        [
                          0.8888888888888888,
                          "#fdca26"
                        ],
                        [
                          1,
                          "#f0f921"
                        ]
                      ]
                    },
                    "colorway": [
                      "#636efa",
                      "#EF553B",
                      "#00cc96",
                      "#ab63fa",
                      "#FFA15A",
                      "#19d3f3",
                      "#FF6692",
                      "#B6E880",
                      "#FF97FF",
                      "#FECB52"
                    ],
                    "font": {
                      "color": "#2a3f5f"
                    },
                    "geo": {
                      "bgcolor": "white",
                      "lakecolor": "white",
                      "landcolor": "#E5ECF6",
                      "showlakes": true,
                      "showland": true,
                      "subunitcolor": "white"
                    },
                    "hoverlabel": {
                      "align": "left"
                    },
                    "hovermode": "closest",
                    "mapbox": {
                      "style": "light"
                    },
                    "paper_bgcolor": "white",
                    "plot_bgcolor": "#E5ECF6",
                    "polar": {
                      "angularaxis": {
                        "gridcolor": "white",
                        "linecolor": "white",
                        "ticks": ""
                      },
                      "bgcolor": "#E5ECF6",
                      "radialaxis": {
                        "gridcolor": "white",
                        "linecolor": "white",
                        "ticks": ""
                      }
                    },
                    "scene": {
                      "xaxis": {
                        "backgroundcolor": "#E5ECF6",
                        "gridcolor": "white",
                        "gridwidth": 2,
                        "linecolor": "white",
                        "showbackground": true,
                        "ticks": "",
                        "zerolinecolor": "white"
                      },
                      "yaxis": {
                        "backgroundcolor": "#E5ECF6",
                        "gridcolor": "white",
                        "gridwidth": 2,
                        "linecolor": "white",
                        "showbackground": true,
                        "ticks": "",
                        "zerolinecolor": "white"
                      },
                      "zaxis": {
                        "backgroundcolor": "#E5ECF6",
                        "gridcolor": "white",
                        "gridwidth": 2,
                        "linecolor": "white",
                        "showbackground": true,
                        "ticks": "",
                        "zerolinecolor": "white"
                      }
                    },
                    "shapedefaults": {
                      "line": {
                        "color": "#2a3f5f"
                      }
                    },
                    "ternary": {
                      "aaxis": {
                        "gridcolor": "white",
                        "linecolor": "white",
                        "ticks": ""
                      },
                      "baxis": {
                        "gridcolor": "white",
                        "linecolor": "white",
                        "ticks": ""
                      },
                      "bgcolor": "#E5ECF6",
                      "caxis": {
                        "gridcolor": "white",
                        "linecolor": "white",
                        "ticks": ""
                      }
                    },
                    "title": {
                      "x": 0.05
                    },
                    "xaxis": {
                      "automargin": true,
                      "gridcolor": "white",
                      "linecolor": "white",
                      "ticks": "",
                      "title": {
                        "standoff": 15
                      },
                      "zerolinecolor": "white",
                      "zerolinewidth": 2
                    },
                    "yaxis": {
                      "automargin": true,
                      "gridcolor": "white",
                      "linecolor": "white",
                      "ticks": "",
                      "title": {
                        "standoff": 15
                      },
                      "zerolinecolor": "white",
                      "zerolinewidth": 2
                    }
                  }
                },
                "title": {
                  "text": "Missing Values (count & %)"
                }
              }
            }
          },
          "metadata": {},
          "output_type": "display_data"
        }
      ],
      "source": [
        "# Plotting\n",
        "missing_plot(df, 'Outcome')"
      ]
    },
    {
      "cell_type": "markdown",
      "metadata": {
        "collapsed": false,
        "id": "D7a5PPxpLz6l"
      },
      "source": [
        "En el gráfico se logra apreciar que una característica muy importante para este conjunto de datos tiene cerca de la mitad de valores faltantes (la insulina)."
      ]
    },
    {
      "cell_type": "code",
      "execution_count": 10,
      "metadata": {
        "ExecuteTime": {
          "end_time": "2024-03-20T13:02:28.197652100Z",
          "start_time": "2024-03-20T13:02:28.064600600Z"
        },
        "colab": {
          "base_uri": "https://localhost:8080/",
          "height": 241
        },
        "id": "SfXSPQWILz6l",
        "outputId": "dca4815b-e4f1-47c4-aab2-5af84b1c05e3"
      },
      "outputs": [
        {
          "name": "stdout",
          "output_type": "stream",
          "text": [
            "Your selected dataframe has 9 columns.\n",
            "There are 5 columns that have missing values.\n"
          ]
        },
        {
          "data": {
            "text/html": [
              "<div>\n",
              "<style scoped>\n",
              "    .dataframe tbody tr th:only-of-type {\n",
              "        vertical-align: middle;\n",
              "    }\n",
              "\n",
              "    .dataframe tbody tr th {\n",
              "        vertical-align: top;\n",
              "    }\n",
              "\n",
              "    .dataframe thead th {\n",
              "        text-align: right;\n",
              "    }\n",
              "</style>\n",
              "<table border=\"1\" class=\"dataframe\">\n",
              "  <thead>\n",
              "    <tr style=\"text-align: right;\">\n",
              "      <th></th>\n",
              "      <th>Missing Values</th>\n",
              "      <th>Percent of Total Values</th>\n",
              "    </tr>\n",
              "  </thead>\n",
              "  <tbody>\n",
              "    <tr>\n",
              "      <th>Insulin</th>\n",
              "      <td>374</td>\n",
              "      <td>48.70</td>\n",
              "    </tr>\n",
              "    <tr>\n",
              "      <th>SkinThickness</th>\n",
              "      <td>227</td>\n",
              "      <td>29.56</td>\n",
              "    </tr>\n",
              "    <tr>\n",
              "      <th>BloodPressure</th>\n",
              "      <td>35</td>\n",
              "      <td>4.56</td>\n",
              "    </tr>\n",
              "    <tr>\n",
              "      <th>BMI</th>\n",
              "      <td>11</td>\n",
              "      <td>1.43</td>\n",
              "    </tr>\n",
              "    <tr>\n",
              "      <th>Glucose</th>\n",
              "      <td>5</td>\n",
              "      <td>0.65</td>\n",
              "    </tr>\n",
              "  </tbody>\n",
              "</table>\n",
              "</div>"
            ],
            "text/plain": [
              "               Missing Values  Percent of Total Values\n",
              "Insulin                   374                    48.70\n",
              "SkinThickness             227                    29.56\n",
              "BloodPressure              35                     4.56\n",
              "BMI                        11                     1.43\n",
              "Glucose                     5                     0.65"
            ]
          },
          "execution_count": 10,
          "metadata": {},
          "output_type": "execute_result"
        }
      ],
      "source": [
        "# revisando los datos faltantes en forma de tabla (missing columns)\n",
        "def missing_percent(df):\n",
        "        # Total missing values\n",
        "        mis_val = df.isnull().sum()\n",
        "\n",
        "        # Percentage of missing values\n",
        "        mis_percent = 100 * df.isnull().sum() / len(df)\n",
        "\n",
        "        # Make a table with the results\n",
        "        mis_table = pd.concat([mis_val, mis_percent], axis=1)\n",
        "\n",
        "        # Rename the columns\n",
        "        mis_columns = mis_table.rename(\n",
        "        columns = {0 : 'Missing Values', 1 : 'Percent of Total Values'})\n",
        "\n",
        "        # Sort the table by percentage of missing descending\n",
        "        mis_columns = mis_columns[\n",
        "            mis_columns.iloc[:,1] != 0].sort_values(\n",
        "        'Percent of Total Values', ascending=False).round(2)\n",
        "\n",
        "        # Print some summary information\n",
        "        print (\"Your selected dataframe has \" + str(df.shape[1]) + \" columns.\\n\"\n",
        "            \"There are \" + str(mis_columns.shape[0]) +\n",
        "              \" columns that have missing values.\")\n",
        "\n",
        "        # Return the dataframe with missing information\n",
        "        return mis_columns\n",
        "\n",
        "miss_cols_info = missing_percent(df)\n",
        "miss_cols_info"
      ]
    },
    {
      "cell_type": "code",
      "execution_count": 11,
      "metadata": {
        "ExecuteTime": {
          "end_time": "2024-03-20T13:11:22.141358300Z",
          "start_time": "2024-03-20T13:11:22.130861300Z"
        },
        "colab": {
          "base_uri": "https://localhost:8080/",
          "height": 206
        },
        "id": "hwvoN4FqLz6m",
        "outputId": "e3e231ef-9775-443b-c7d3-85495ed5edd3"
      },
      "outputs": [
        {
          "data": {
            "text/html": [
              "<div>\n",
              "<style scoped>\n",
              "    .dataframe tbody tr th:only-of-type {\n",
              "        vertical-align: middle;\n",
              "    }\n",
              "\n",
              "    .dataframe tbody tr th {\n",
              "        vertical-align: top;\n",
              "    }\n",
              "\n",
              "    .dataframe thead th {\n",
              "        text-align: right;\n",
              "    }\n",
              "</style>\n",
              "<table border=\"1\" class=\"dataframe\">\n",
              "  <thead>\n",
              "    <tr style=\"text-align: right;\">\n",
              "      <th></th>\n",
              "      <th>Pregnancies</th>\n",
              "      <th>Glucose</th>\n",
              "      <th>BloodPressure</th>\n",
              "      <th>SkinThickness</th>\n",
              "      <th>Insulin</th>\n",
              "      <th>BMI</th>\n",
              "      <th>DPF</th>\n",
              "      <th>Age</th>\n",
              "      <th>Outcome</th>\n",
              "    </tr>\n",
              "  </thead>\n",
              "  <tbody>\n",
              "    <tr>\n",
              "      <th>0</th>\n",
              "      <td>6</td>\n",
              "      <td>148.0</td>\n",
              "      <td>72.0</td>\n",
              "      <td>35.0</td>\n",
              "      <td>NaN</td>\n",
              "      <td>33.6</td>\n",
              "      <td>0.627</td>\n",
              "      <td>50</td>\n",
              "      <td>1</td>\n",
              "    </tr>\n",
              "    <tr>\n",
              "      <th>1</th>\n",
              "      <td>1</td>\n",
              "      <td>85.0</td>\n",
              "      <td>66.0</td>\n",
              "      <td>29.0</td>\n",
              "      <td>NaN</td>\n",
              "      <td>26.6</td>\n",
              "      <td>0.351</td>\n",
              "      <td>31</td>\n",
              "      <td>0</td>\n",
              "    </tr>\n",
              "    <tr>\n",
              "      <th>2</th>\n",
              "      <td>8</td>\n",
              "      <td>183.0</td>\n",
              "      <td>64.0</td>\n",
              "      <td>NaN</td>\n",
              "      <td>NaN</td>\n",
              "      <td>23.3</td>\n",
              "      <td>0.672</td>\n",
              "      <td>32</td>\n",
              "      <td>1</td>\n",
              "    </tr>\n",
              "    <tr>\n",
              "      <th>3</th>\n",
              "      <td>1</td>\n",
              "      <td>89.0</td>\n",
              "      <td>66.0</td>\n",
              "      <td>23.0</td>\n",
              "      <td>94.0</td>\n",
              "      <td>28.1</td>\n",
              "      <td>0.167</td>\n",
              "      <td>21</td>\n",
              "      <td>0</td>\n",
              "    </tr>\n",
              "    <tr>\n",
              "      <th>4</th>\n",
              "      <td>0</td>\n",
              "      <td>137.0</td>\n",
              "      <td>40.0</td>\n",
              "      <td>35.0</td>\n",
              "      <td>168.0</td>\n",
              "      <td>43.1</td>\n",
              "      <td>2.288</td>\n",
              "      <td>33</td>\n",
              "      <td>1</td>\n",
              "    </tr>\n",
              "  </tbody>\n",
              "</table>\n",
              "</div>"
            ],
            "text/plain": [
              "   Pregnancies  Glucose  BloodPressure  SkinThickness  Insulin   BMI    DPF  \\\n",
              "0            6    148.0           72.0           35.0      NaN  33.6  0.627   \n",
              "1            1     85.0           66.0           29.0      NaN  26.6  0.351   \n",
              "2            8    183.0           64.0            NaN      NaN  23.3  0.672   \n",
              "3            1     89.0           66.0           23.0     94.0  28.1  0.167   \n",
              "4            0    137.0           40.0           35.0    168.0  43.1  2.288   \n",
              "\n",
              "   Age  Outcome  \n",
              "0   50        1  \n",
              "1   31        0  \n",
              "2   32        1  \n",
              "3   21        0  \n",
              "4   33        1  "
            ]
          },
          "execution_count": 11,
          "metadata": {},
          "output_type": "execute_result"
        }
      ],
      "source": [
        "# Las columnas con valores faltantes de más del 70% son eliminadas, se considera que en este caso los valores tienen tantas columnas faltantes que no se puede hacer nada con ellos.\n",
        " # se apliucarán diferentes operaciones de acuerdo a las proporciones de faltantes en el conjunto de datos. Por ejemplo, se quieren eliminar las variables independientes que tengan más del 25% de los datos faltantes.\n",
        "\n",
        "df_drop = df.copy()\n",
        "df_drop.head()\n"
      ]
    },
    {
      "cell_type": "code",
      "execution_count": 12,
      "metadata": {
        "ExecuteTime": {
          "end_time": "2024-03-20T13:11:34.401527800Z",
          "start_time": "2024-03-20T13:11:34.394017100Z"
        },
        "colab": {
          "base_uri": "https://localhost:8080/",
          "height": 125
        },
        "id": "8M6msQLbLz6n",
        "outputId": "2da96603-e0be-4f88-8502-1da96e7e6fd1"
      },
      "outputs": [
        {
          "data": {
            "text/html": [
              "<div>\n",
              "<style scoped>\n",
              "    .dataframe tbody tr th:only-of-type {\n",
              "        vertical-align: middle;\n",
              "    }\n",
              "\n",
              "    .dataframe tbody tr th {\n",
              "        vertical-align: top;\n",
              "    }\n",
              "\n",
              "    .dataframe thead th {\n",
              "        text-align: right;\n",
              "    }\n",
              "</style>\n",
              "<table border=\"1\" class=\"dataframe\">\n",
              "  <thead>\n",
              "    <tr style=\"text-align: right;\">\n",
              "      <th></th>\n",
              "      <th>Missing Values</th>\n",
              "      <th>Percent of Total Values</th>\n",
              "    </tr>\n",
              "  </thead>\n",
              "  <tbody>\n",
              "    <tr>\n",
              "      <th>Insulin</th>\n",
              "      <td>374</td>\n",
              "      <td>48.70</td>\n",
              "    </tr>\n",
              "    <tr>\n",
              "      <th>SkinThickness</th>\n",
              "      <td>227</td>\n",
              "      <td>29.56</td>\n",
              "    </tr>\n",
              "  </tbody>\n",
              "</table>\n",
              "</div>"
            ],
            "text/plain": [
              "               Missing Values  Percent of Total Values\n",
              "Insulin                   374                    48.70\n",
              "SkinThickness             227                    29.56"
            ]
          },
          "execution_count": 12,
          "metadata": {},
          "output_type": "execute_result"
        }
      ],
      "source": [
        "# Eliminando columnas con mas del 25% de datos faltantes\n",
        "drop_cols = miss_cols_info[miss_cols_info['Percent of Total Values'] > 25]\n",
        "drop_cols\n",
        "# En este caso se elimina la columna Insulina y grosor de la piel, ya que tienen muchos datos faltantes"
      ]
    },
    {
      "cell_type": "code",
      "execution_count": 13,
      "metadata": {
        "ExecuteTime": {
          "end_time": "2024-03-20T13:11:47.354618Z",
          "start_time": "2024-03-20T13:11:47.304076900Z"
        },
        "colab": {
          "base_uri": "https://localhost:8080/"
        },
        "id": "b_G0iUnYLz6o",
        "outputId": "3b5887c0-f4e8-43a9-8c81-eb92dcfcc955"
      },
      "outputs": [
        {
          "name": "stdout",
          "output_type": "stream",
          "text": [
            "Registros en el conjunto de datos original (768, 9)\n",
            "Registros en el conjunto de datos (768, 7)\n"
          ]
        }
      ],
      "source": [
        "col_names = drop_cols.index.tolist()\n",
        "col_names\n",
        "df_drop.drop(col_names, axis = 1, inplace=True)\n",
        "df_drop.head()\n",
        "print(\"Registros en el conjunto de datos original\", df.shape)\n",
        "print(\"Registros en el conjunto de datos\", df_drop.shape)\n",
        "# dataset con columnas eliminadas, en este caso se tiene el dataset sin esas dos características."
      ]
    },
    {
      "cell_type": "code",
      "execution_count": 14,
      "metadata": {
        "ExecuteTime": {
          "end_time": "2024-03-20T13:13:48.279925700Z",
          "start_time": "2024-03-20T13:13:48.271929700Z"
        },
        "colab": {
          "base_uri": "https://localhost:8080/",
          "height": 241
        },
        "id": "cZ1pKC1lLz6p",
        "outputId": "54d23839-c4b2-4d25-bfbe-5873995595ea"
      },
      "outputs": [
        {
          "name": "stdout",
          "output_type": "stream",
          "text": [
            "Registros en el conjunto de datos original (768, 9)\n",
            "Registros en el conjunto de datos (394, 9)\n"
          ]
        },
        {
          "data": {
            "text/html": [
              "<div>\n",
              "<style scoped>\n",
              "    .dataframe tbody tr th:only-of-type {\n",
              "        vertical-align: middle;\n",
              "    }\n",
              "\n",
              "    .dataframe tbody tr th {\n",
              "        vertical-align: top;\n",
              "    }\n",
              "\n",
              "    .dataframe thead th {\n",
              "        text-align: right;\n",
              "    }\n",
              "</style>\n",
              "<table border=\"1\" class=\"dataframe\">\n",
              "  <thead>\n",
              "    <tr style=\"text-align: right;\">\n",
              "      <th></th>\n",
              "      <th>Pregnancies</th>\n",
              "      <th>Glucose</th>\n",
              "      <th>BloodPressure</th>\n",
              "      <th>SkinThickness</th>\n",
              "      <th>Insulin</th>\n",
              "      <th>BMI</th>\n",
              "      <th>DPF</th>\n",
              "      <th>Age</th>\n",
              "      <th>Outcome</th>\n",
              "    </tr>\n",
              "  </thead>\n",
              "  <tbody>\n",
              "    <tr>\n",
              "      <th>3</th>\n",
              "      <td>1</td>\n",
              "      <td>89.0</td>\n",
              "      <td>66.0</td>\n",
              "      <td>23.0</td>\n",
              "      <td>94.0</td>\n",
              "      <td>28.1</td>\n",
              "      <td>0.167</td>\n",
              "      <td>21</td>\n",
              "      <td>0</td>\n",
              "    </tr>\n",
              "    <tr>\n",
              "      <th>4</th>\n",
              "      <td>0</td>\n",
              "      <td>137.0</td>\n",
              "      <td>40.0</td>\n",
              "      <td>35.0</td>\n",
              "      <td>168.0</td>\n",
              "      <td>43.1</td>\n",
              "      <td>2.288</td>\n",
              "      <td>33</td>\n",
              "      <td>1</td>\n",
              "    </tr>\n",
              "    <tr>\n",
              "      <th>6</th>\n",
              "      <td>3</td>\n",
              "      <td>78.0</td>\n",
              "      <td>50.0</td>\n",
              "      <td>32.0</td>\n",
              "      <td>88.0</td>\n",
              "      <td>31.0</td>\n",
              "      <td>0.248</td>\n",
              "      <td>26</td>\n",
              "      <td>1</td>\n",
              "    </tr>\n",
              "    <tr>\n",
              "      <th>8</th>\n",
              "      <td>2</td>\n",
              "      <td>197.0</td>\n",
              "      <td>70.0</td>\n",
              "      <td>45.0</td>\n",
              "      <td>543.0</td>\n",
              "      <td>30.5</td>\n",
              "      <td>0.158</td>\n",
              "      <td>53</td>\n",
              "      <td>1</td>\n",
              "    </tr>\n",
              "    <tr>\n",
              "      <th>13</th>\n",
              "      <td>1</td>\n",
              "      <td>189.0</td>\n",
              "      <td>60.0</td>\n",
              "      <td>23.0</td>\n",
              "      <td>846.0</td>\n",
              "      <td>30.1</td>\n",
              "      <td>0.398</td>\n",
              "      <td>59</td>\n",
              "      <td>1</td>\n",
              "    </tr>\n",
              "  </tbody>\n",
              "</table>\n",
              "</div>"
            ],
            "text/plain": [
              "    Pregnancies  Glucose  BloodPressure  SkinThickness  Insulin   BMI    DPF  \\\n",
              "3             1     89.0           66.0           23.0     94.0  28.1  0.167   \n",
              "4             0    137.0           40.0           35.0    168.0  43.1  2.288   \n",
              "6             3     78.0           50.0           32.0     88.0  31.0  0.248   \n",
              "8             2    197.0           70.0           45.0    543.0  30.5  0.158   \n",
              "13            1    189.0           60.0           23.0    846.0  30.1  0.398   \n",
              "\n",
              "    Age  Outcome  \n",
              "3    21        0  \n",
              "4    33        1  \n",
              "6    26        1  \n",
              "8    53        1  \n",
              "13   59        1  "
            ]
          },
          "execution_count": 14,
          "metadata": {},
          "output_type": "execute_result"
        }
      ],
      "source": [
        "# si bien, una forma de trabajar con los datos es eliminar las columnas con faltantes (eliminar las características)\n",
        "# sin embargo se podría optar por un enfoque diferente y es eliminar los registros que tengan NaN en esas columnas, es decir, no enfocarnos en las filas sino en las columnas\n",
        "df_drop_rows = df.copy() # otra copia del dataset para evitar dañar los datos ya cargados en memoria\n",
        "df_drop_rows=df_drop_rows.dropna(subset=col_names) # eliminar NaNs en columnas inulina y ancho de piel\n",
        "print(\"Registros en el conjunto de datos original\", df.shape)\n",
        "print(\"Registros en el conjunto de datos\", df_drop_rows.shape)\n",
        "df_drop_rows.head()\n",
        "# en este caso se mantienen las 9 columnas, pero se borran 374 filas (casi la mitad del dataset)"
      ]
    },
    {
      "cell_type": "code",
      "execution_count": 19,
      "metadata": {
        "ExecuteTime": {
          "end_time": "2024-03-20T13:13:51.380083Z",
          "start_time": "2024-03-20T13:13:51.234580800Z"
        },
        "colab": {
          "base_uri": "https://localhost:8080/",
          "height": 613
        },
        "id": "DIoiD1ZNLz6q",
        "outputId": "34bd1348-3544-4d8e-bef6-8035afa7f34b"
      },
      "outputs": [
        {
          "data": {
            "image/png": "[encoded data removed]",
            "text/plain": [
              "<Figure size 640x480 with 1 Axes>"
            ]
          },
          "metadata": {},
          "output_type": "display_data"
        }
      ],
      "source": [
        "# Analyze visually with scatter plot\n",
        "#plt.style.use('seaborn')\n",
        "fig = plt.Figure()\n",
        "fig = df_drop_rows.plot(x=\"BMI\", y='Insulin', kind='scatter',\n",
        "                    s = 10,\n",
        "                    title='Dropping Rows', colorbar=False)\n",
        "\n"
      ]
    },
    {
      "cell_type": "code",
      "execution_count": null,
      "metadata": {
        "ExecuteTime": {
          "end_time": "2024-03-20T13:14:16.899345200Z",
          "start_time": "2024-03-20T13:14:16.748833500Z"
        },
        "colab": {
          "base_uri": "https://localhost:8080/",
          "height": 504
        },
        "id": "7B8cv_e7Lz6s",
        "outputId": "879db829-3388-4680-ec1a-aaddf0f06e9e"
      },
      "outputs": [
        {
          "data": {
            "image/png": "[encoded data removed]",
            "text/plain": [
              "<Figure size 800x550 with 1 Axes>"
            ]
          },
          "metadata": {},
          "output_type": "display_data"
        }
      ],
      "source": [
        "sns.histplot(\n",
        "    df_drop_rows[\"Insulin\"], kde=True,\n",
        "    stat=\"density\", kde_kws=dict(cut=3)\n",
        ")\n",
        "sns.set_style(\"darkgrid\")"
      ]
    },
    {
      "cell_type": "markdown",
      "metadata": {
        "collapsed": false,
        "id": "Mco4f89VLz6t"
      },
      "source": [
        "The scikit-learn library provides a useful tool called the SimpleImputer function for addressing missing values in datasets. This function allows us to replace these missing values with a specified fill value. Within the SimpleImputer function, there exists a parameter known as strategy. This parameter offers four different options(mean(default), median, most_frequent and constant), each representing a distinct imputation method."
      ]
    },
    {
      "cell_type": "code",
      "execution_count": 20,
      "metadata": {
        "ExecuteTime": {
          "end_time": "2024-03-20T13:14:40.823603600Z",
          "start_time": "2024-03-20T13:14:40.818100300Z"
        },
        "colab": {
          "base_uri": "https://localhost:8080/"
        },
        "id": "J1z_UNfyLz6t",
        "outputId": "3d95b606-8d4b-4e41-db91-edd594f77212"
      },
      "outputs": [
        {
          "data": {
            "text/plain": [
              "155.55"
            ]
          },
          "execution_count": 20,
          "metadata": {},
          "output_type": "execute_result"
        }
      ],
      "source": [
        "df_mean = df.copy()\n",
        "round(df_mean['Insulin'].mean(), 2)\n"
      ]
    },
    {
      "cell_type": "code",
      "execution_count": 21,
      "metadata": {
        "ExecuteTime": {
          "end_time": "2024-03-20T13:14:46.834741800Z",
          "start_time": "2024-03-20T13:14:46.829242600Z"
        },
        "id": "kHi6Ofl_Lz6u"
      },
      "outputs": [],
      "source": [
        "mean_imputer = SimpleImputer(missing_values = np.nan,strategy ='mean')\n",
        "df_mean['Insulin'] = mean_imputer.fit_transform(\n",
        "    df_mean['Insulin'].values.reshape(-1,1))"
      ]
    },
    {
      "cell_type": "code",
      "execution_count": 23,
      "metadata": {
        "ExecuteTime": {
          "end_time": "2024-03-20T13:14:51.835894400Z",
          "start_time": "2024-03-20T13:14:51.686001100Z"
        },
        "colab": {
          "base_uri": "https://localhost:8080/",
          "height": 613
        },
        "id": "LQ73AQXsLz6u",
        "outputId": "b362e4ff-840f-47ee-d724-816816e9ca41"
      },
      "outputs": [
        {
          "data": {
            "image/png": "[encoded data removed]",
            "text/plain": [
              "<Figure size 640x480 with 1 Axes>"
            ]
          },
          "metadata": {},
          "output_type": "display_data"
        }
      ],
      "source": [
        "# Analyze visually with scatter plot\n",
        "#plt.style.use('seaborn')\n",
        "fig = plt.Figure()\n",
        "null_values = df['Insulin'].isnull()\n",
        "fig = df_mean.plot(x=\"BMI\", y='Insulin', kind='scatter',\n",
        "                     c=null_values, cmap='winter',s = 10,\n",
        "                     title='Mean Imputation', colorbar=False)"
      ]
    },
    {
      "cell_type": "code",
      "execution_count": 24,
      "metadata": {
        "ExecuteTime": {
          "end_time": "2024-03-20T13:15:03.423282300Z",
          "start_time": "2024-03-20T13:15:03.170448500Z"
        },
        "colab": {
          "base_uri": "https://localhost:8080/",
          "height": 506
        },
        "id": "qbnoeQoZLz6v",
        "outputId": "e41b0888-0c33-4605-e1d5-62a862943007"
      },
      "outputs": [
        {
          "data": {
            "image/png": "[encoded data removed]",
            "text/plain": [
              "<Figure size 640x480 with 1 Axes>"
            ]
          },
          "metadata": {},
          "output_type": "display_data"
        }
      ],
      "source": [
        "\n",
        "\n",
        "sns.histplot(\n",
        "    df_mean[\"Insulin\"], kde=True,\n",
        "    stat=\"density\", kde_kws=dict(cut=3)\n",
        ")\n",
        "sns.set_style(\"darkgrid\")\n",
        "\n"
      ]
    },
    {
      "cell_type": "code",
      "execution_count": 26,
      "metadata": {
        "ExecuteTime": {
          "end_time": "2024-03-20T13:15:34.121038100Z",
          "start_time": "2024-03-20T13:15:33.964492600Z"
        },
        "colab": {
          "base_uri": "https://localhost:8080/",
          "height": 613
        },
        "id": "6wDv2p7bLz6v",
        "outputId": "333935d6-04bb-404d-9068-e6fe0cc2d1a3"
      },
      "outputs": [
        {
          "data": {
            "image/png": "[encoded data removed]",
            "text/plain": [
              "<Figure size 640x480 with 1 Axes>"
            ]
          },
          "metadata": {},
          "output_type": "display_data"
        }
      ],
      "source": [
        "\n",
        "df_median = df.copy()\n",
        "round(df_median['Insulin'].median(), 2)\n",
        "\n",
        "\n",
        "#Median Imputation\n",
        "median_imputer = SimpleImputer(missing_values = np.nan,\n",
        "                        strategy ='median')\n",
        "df_median['Insulin'] = median_imputer.fit_transform(\n",
        "    df_median['Insulin'].values.reshape(-1,1))\n",
        "\n",
        "\n",
        "\n",
        "# Analyze visually with scatter plot\n",
        "#plt.style.use('seaborn')\n",
        "fig = plt.Figure()\n",
        "null_values = df['Insulin'].isnull()\n",
        "fig = df_median.plot(x=\"BMI\", y='Insulin', kind='scatter',\n",
        "                     c=null_values, cmap='winter',s = 10,\n",
        "                     title='Median Imputation', colorbar=False)\n",
        "\n",
        "\n",
        "\n"
      ]
    },
    {
      "cell_type": "code",
      "execution_count": 27,
      "metadata": {
        "ExecuteTime": {
          "end_time": "2024-03-20T13:15:42.061218900Z",
          "start_time": "2024-03-20T13:15:41.433293Z"
        },
        "colab": {
          "base_uri": "https://localhost:8080/",
          "height": 504
        },
        "id": "iHQE7ei2Lz6w",
        "outputId": "19d068f0-b411-497e-ee15-a0c346dbc247"
      },
      "outputs": [
        {
          "data": {
            "image/png": "[encoded data removed]",
            "text/plain": [
              "<Figure size 640x480 with 1 Axes>"
            ]
          },
          "metadata": {},
          "output_type": "display_data"
        }
      ],
      "source": [
        "sns.histplot(\n",
        "    df_median[\"Insulin\"], kde=True,\n",
        "    stat=\"density\")\n",
        "plt.grid()\n",
        "sns.set_style(\"darkgrid\")"
      ]
    },
    {
      "cell_type": "markdown",
      "metadata": {
        "collapsed": false,
        "id": "pLEIHUv2Lz6w"
      },
      "source": [
        "Most of the imputation technique can cause bias. Simple imputation can result in an underestimation of standard errors. Simple imputed data for any statistic can lead to an underestimation of the standard error. As the number of missing data increases, simple imputation methods should be avoided.\n",
        "\n",
        "\n",
        "\n",
        "\n",
        "\n",
        "<div style=\"color:white;display:fill;border-radius:8px;\n",
        "            background-color:#2C3E50 ;font-size:110%;\n",
        "            font-family:Helvetica;letter-spacing:0.5px\">\n",
        "    <p style=\"padding: 8px;color:white;\"><b>2.2) Advanced imputation methods</b></p>\n",
        "</div>\n",
        "\n",
        "One commonly adopted strategy for addressing missing data is to employ a predictive model to estimate the absent values. This technique entails developing a separate model for each input variable containing missing entries.\n",
        "\n",
        "The default value of K is set to 5. Although there is no definitive method for determining the ideal value of K, a commonly used heuristic suggests that the optimal K is often the square root of the total number of samples in the dataset. Typically, an odd value is chosen for K to prevent ties in decision-making. To identify the most suitable K, an error plot or accuracy plot is commonly used.\n"
      ]
    },
    {
      "cell_type": "code",
      "execution_count": 28,
      "metadata": {
        "ExecuteTime": {
          "end_time": "2024-03-20T13:18:38.715860900Z",
          "start_time": "2024-03-20T13:18:38.672678900Z"
        },
        "colab": {
          "base_uri": "https://localhost:8080/",
          "height": 206
        },
        "id": "jxDJODfoLz6x",
        "outputId": "82b582b2-ed17-4dbc-9d58-291d259e5d0c"
      },
      "outputs": [
        {
          "data": {
            "text/html": [
              "<div>\n",
              "<style scoped>\n",
              "    .dataframe tbody tr th:only-of-type {\n",
              "        vertical-align: middle;\n",
              "    }\n",
              "\n",
              "    .dataframe tbody tr th {\n",
              "        vertical-align: top;\n",
              "    }\n",
              "\n",
              "    .dataframe thead th {\n",
              "        text-align: right;\n",
              "    }\n",
              "</style>\n",
              "<table border=\"1\" class=\"dataframe\">\n",
              "  <thead>\n",
              "    <tr style=\"text-align: right;\">\n",
              "      <th></th>\n",
              "      <th>Pregnancies</th>\n",
              "      <th>Glucose</th>\n",
              "      <th>BloodPressure</th>\n",
              "      <th>BMI</th>\n",
              "      <th>DPF</th>\n",
              "      <th>Age</th>\n",
              "      <th>Insulin</th>\n",
              "    </tr>\n",
              "  </thead>\n",
              "  <tbody>\n",
              "    <tr>\n",
              "      <th>0</th>\n",
              "      <td>0.352941</td>\n",
              "      <td>0.670968</td>\n",
              "      <td>0.489796</td>\n",
              "      <td>0.314928</td>\n",
              "      <td>0.234415</td>\n",
              "      <td>0.483333</td>\n",
              "      <td>0.287500</td>\n",
              "    </tr>\n",
              "    <tr>\n",
              "      <th>1</th>\n",
              "      <td>0.058824</td>\n",
              "      <td>0.264516</td>\n",
              "      <td>0.428571</td>\n",
              "      <td>0.171779</td>\n",
              "      <td>0.116567</td>\n",
              "      <td>0.166667</td>\n",
              "      <td>0.045192</td>\n",
              "    </tr>\n",
              "    <tr>\n",
              "      <th>2</th>\n",
              "      <td>0.470588</td>\n",
              "      <td>0.896774</td>\n",
              "      <td>0.408163</td>\n",
              "      <td>0.104294</td>\n",
              "      <td>0.253629</td>\n",
              "      <td>0.183333</td>\n",
              "      <td>0.275240</td>\n",
              "    </tr>\n",
              "    <tr>\n",
              "      <th>3</th>\n",
              "      <td>0.058824</td>\n",
              "      <td>0.290323</td>\n",
              "      <td>0.428571</td>\n",
              "      <td>0.202454</td>\n",
              "      <td>0.038002</td>\n",
              "      <td>0.000000</td>\n",
              "      <td>0.096154</td>\n",
              "    </tr>\n",
              "    <tr>\n",
              "      <th>4</th>\n",
              "      <td>0.000000</td>\n",
              "      <td>0.600000</td>\n",
              "      <td>0.163265</td>\n",
              "      <td>0.509202</td>\n",
              "      <td>0.943638</td>\n",
              "      <td>0.200000</td>\n",
              "      <td>0.185096</td>\n",
              "    </tr>\n",
              "  </tbody>\n",
              "</table>\n",
              "</div>"
            ],
            "text/plain": [
              "   Pregnancies   Glucose  BloodPressure       BMI       DPF       Age  \\\n",
              "0     0.352941  0.670968       0.489796  0.314928  0.234415  0.483333   \n",
              "1     0.058824  0.264516       0.428571  0.171779  0.116567  0.166667   \n",
              "2     0.470588  0.896774       0.408163  0.104294  0.253629  0.183333   \n",
              "3     0.058824  0.290323       0.428571  0.202454  0.038002  0.000000   \n",
              "4     0.000000  0.600000       0.163265  0.509202  0.943638  0.200000   \n",
              "\n",
              "    Insulin  \n",
              "0  0.287500  \n",
              "1  0.045192  \n",
              "2  0.275240  \n",
              "3  0.096154  \n",
              "4  0.185096  "
            ]
          },
          "execution_count": 28,
          "metadata": {},
          "output_type": "execute_result"
        }
      ],
      "source": [
        "df_knn = df.copy()\n",
        "df_knn = df_knn.filter(['Pregnancies','Glucose','BloodPressure','BMI','DPF','Age','Insulin'], axis=1).copy()\n",
        "df_knn.head()\n",
        "\n",
        "\n",
        "scaler = MinMaxScaler(feature_range=(0, 1))\n",
        "df_knn = pd.DataFrame(scaler.fit_transform(df_knn), columns = df_knn.columns)\n",
        "\n",
        "# Define KNN imputer and fill missing values\n",
        "knn_imputer = KNNImputer(n_neighbors=5, weights='uniform', metric='nan_euclidean')\n",
        "df_knn_imputed = pd.DataFrame(knn_imputer.fit_transform(df_knn), columns=df_knn.columns)\n",
        "\n",
        "\n",
        "df_knn_imputed.head()\n",
        "\n",
        "\n"
      ]
    },
    {
      "cell_type": "code",
      "execution_count": 31,
      "metadata": {
        "ExecuteTime": {
          "end_time": "2024-03-20T13:18:53.280817400Z",
          "start_time": "2024-03-20T13:18:53.277315900Z"
        },
        "colab": {
          "base_uri": "https://localhost:8080/",
          "height": 206
        },
        "id": "_WVdhrlWLz6x",
        "outputId": "577f6345-68f1-4189-8504-e65bf95f872d"
      },
      "outputs": [
        {
          "data": {
            "text/html": [
              "<div>\n",
              "<style scoped>\n",
              "    .dataframe tbody tr th:only-of-type {\n",
              "        vertical-align: middle;\n",
              "    }\n",
              "\n",
              "    .dataframe tbody tr th {\n",
              "        vertical-align: top;\n",
              "    }\n",
              "\n",
              "    .dataframe thead th {\n",
              "        text-align: right;\n",
              "    }\n",
              "</style>\n",
              "<table border=\"1\" class=\"dataframe\">\n",
              "  <thead>\n",
              "    <tr style=\"text-align: right;\">\n",
              "      <th></th>\n",
              "      <th>Pregnancies</th>\n",
              "      <th>Glucose</th>\n",
              "      <th>BloodPressure</th>\n",
              "      <th>BMI</th>\n",
              "      <th>DPF</th>\n",
              "      <th>Age</th>\n",
              "      <th>Insulin</th>\n",
              "    </tr>\n",
              "  </thead>\n",
              "  <tbody>\n",
              "    <tr>\n",
              "      <th>0</th>\n",
              "      <td>6.0</td>\n",
              "      <td>148.0</td>\n",
              "      <td>72.0</td>\n",
              "      <td>33.6</td>\n",
              "      <td>0.627</td>\n",
              "      <td>50.0</td>\n",
              "      <td>253.2</td>\n",
              "    </tr>\n",
              "    <tr>\n",
              "      <th>1</th>\n",
              "      <td>1.0</td>\n",
              "      <td>85.0</td>\n",
              "      <td>66.0</td>\n",
              "      <td>26.6</td>\n",
              "      <td>0.351</td>\n",
              "      <td>31.0</td>\n",
              "      <td>51.6</td>\n",
              "    </tr>\n",
              "    <tr>\n",
              "      <th>2</th>\n",
              "      <td>8.0</td>\n",
              "      <td>183.0</td>\n",
              "      <td>64.0</td>\n",
              "      <td>23.3</td>\n",
              "      <td>0.672</td>\n",
              "      <td>32.0</td>\n",
              "      <td>243.0</td>\n",
              "    </tr>\n",
              "    <tr>\n",
              "      <th>3</th>\n",
              "      <td>1.0</td>\n",
              "      <td>89.0</td>\n",
              "      <td>66.0</td>\n",
              "      <td>28.1</td>\n",
              "      <td>0.167</td>\n",
              "      <td>21.0</td>\n",
              "      <td>94.0</td>\n",
              "    </tr>\n",
              "    <tr>\n",
              "      <th>4</th>\n",
              "      <td>0.0</td>\n",
              "      <td>137.0</td>\n",
              "      <td>40.0</td>\n",
              "      <td>43.1</td>\n",
              "      <td>2.288</td>\n",
              "      <td>33.0</td>\n",
              "      <td>168.0</td>\n",
              "    </tr>\n",
              "  </tbody>\n",
              "</table>\n",
              "</div>"
            ],
            "text/plain": [
              "   Pregnancies  Glucose  BloodPressure   BMI    DPF   Age  Insulin\n",
              "0          6.0    148.0           72.0  33.6  0.627  50.0    253.2\n",
              "1          1.0     85.0           66.0  26.6  0.351  31.0     51.6\n",
              "2          8.0    183.0           64.0  23.3  0.672  32.0    243.0\n",
              "3          1.0     89.0           66.0  28.1  0.167  21.0     94.0\n",
              "4          0.0    137.0           40.0  43.1  2.288  33.0    168.0"
            ]
          },
          "execution_count": 31,
          "metadata": {},
          "output_type": "execute_result"
        }
      ],
      "source": [
        "\n",
        "\n",
        "original_data = scaler.inverse_transform(df_knn_imputed)\n",
        "# Convert the original data to a DataFrame\n",
        "df_original = pd.DataFrame(original_data, columns=df_knn.columns)\n",
        "\n",
        "\n",
        "df_original.head()\n",
        "\n",
        "\n"
      ]
    },
    {
      "cell_type": "code",
      "execution_count": 32,
      "metadata": {
        "ExecuteTime": {
          "end_time": "2024-03-20T13:18:59.703314700Z",
          "start_time": "2024-03-20T13:18:59.558422800Z"
        },
        "colab": {
          "base_uri": "https://localhost:8080/",
          "height": 527
        },
        "id": "bEWt9e1lLz6y",
        "outputId": "03bfb375-fed6-4da3-96a9-2bc46ba93a16"
      },
      "outputs": [
        {
          "data": {
            "image/png": "[encoded data removed]",
            "text/plain": [
              "<Figure size 640x480 with 1 Axes>"
            ]
          },
          "metadata": {},
          "output_type": "display_data"
        }
      ],
      "source": [
        "fig = plt.Figure()\n",
        "null_values = df['Insulin'].isnull()\n",
        "fig = df_original.plot(x='BMI', y='Insulin', kind='scatter',\n",
        "                          c=null_values, cmap='winter', s = 15,\n",
        "                          title='KNN Imputation', colorbar=False)"
      ]
    },
    {
      "cell_type": "code",
      "execution_count": 33,
      "metadata": {
        "ExecuteTime": {
          "end_time": "2024-03-20T13:19:05.372614200Z",
          "start_time": "2024-03-20T13:19:05.155059900Z"
        },
        "colab": {
          "base_uri": "https://localhost:8080/",
          "height": 544
        },
        "id": "DN6RekwOLz6y",
        "outputId": "e78524b7-cc94-4174-b16c-f898ae9058f5"
      },
      "outputs": [
        {
          "data": {
            "text/plain": [
              "Text(0.5, 1.0, 'KNN Imputation')"
            ]
          },
          "execution_count": 33,
          "metadata": {},
          "output_type": "execute_result"
        },
        {
          "data": {
            "image/png": "[encoded data removed]",
            "text/plain": [
              "<Figure size 640x480 with 1 Axes>"
            ]
          },
          "metadata": {},
          "output_type": "display_data"
        }
      ],
      "source": [
        "sns.histplot(\n",
        "    df_original[\"Insulin\"], kde=True,\n",
        "    stat=\"density\", kde_kws=dict(cut=3)\n",
        ")\n",
        "plt.title('KNN Imputation')"
      ]
    },
    {
      "cell_type": "markdown",
      "metadata": {
        "collapsed": false,
        "id": "Pk9_k63NLz6z"
      },
      "source": [
        "K-Nearest Neighbors (KNN) imputation tends to incur higher computational costs compared to simple imputation methods. However, it's important to note that KNN imputation remains effective for datasets that do not exceed the scale of tens of millions of records. However, as we can see from the scatterplots, knn seems to have completed the missing values in a way that does not distort a normal distribution."
      ]
    },
    {
      "cell_type": "markdown",
      "metadata": {
        "collapsed": false,
        "id": "yEK3KOdpLz6z"
      },
      "source": [
        "MICE Imputation, short for 'Multiple Imputation by Chained Equation' is an advanced missing data imputation technique that uses multiple iterations of Machine Learning model training to predict the missing values using known values from other features in the data as predictors.\n",
        "How does MICE algorithm work?\n",
        "\n",
        "Here is a quick intuition (not the exact algorithm)\n",
        "\n",
        "    You basically take the variable that contains missing values as a response 'Y' and other variables as predictors 'X'.\n",
        "    Build a model with rows where Y is not missing.\n",
        "    Then predict the missing observations. Do this multiple times by doing random draws of the data and taking the mean of the predictions"
      ]
    },
    {
      "cell_type": "code",
      "execution_count": 34,
      "metadata": {
        "ExecuteTime": {
          "end_time": "2024-03-20T13:20:01.600059800Z",
          "start_time": "2024-03-20T13:20:01.412147500Z"
        },
        "colab": {
          "base_uri": "https://localhost:8080/",
          "height": 527
        },
        "id": "1zI2lbxuLz60",
        "outputId": "ae08536b-b0d1-48e9-e76a-40353b9eeb75"
      },
      "outputs": [
        {
          "data": {
            "image/png": "[encoded data removed]",
            "text/plain": [
              "<Figure size 640x480 with 1 Axes>"
            ]
          },
          "metadata": {},
          "output_type": "display_data"
        }
      ],
      "source": [
        "df_mice = df.copy()\n",
        "df_mice = df.filter(['Pregnancies','Glucose','BloodPressure','BMI','DPF','Age','Insulin'], axis=1).copy()\n",
        "\n",
        "# Define MICE Imputer and fill missing values\n",
        "mice_imputer = IterativeImputer(estimator=linear_model.BayesianRidge(), n_nearest_features=None, imputation_order='ascending')\n",
        "df_mice_imputed = pd.DataFrame(mice_imputer.fit_transform(df_mice), columns=df_mice.columns)\n",
        "\n",
        "fig = plt.Figure()\n",
        "null_values = df['Insulin'].isnull()\n",
        "fig = df_mice_imputed.plot(x='BMI', y='Insulin', kind='scatter',\n",
        "                           c=null_values, cmap='winter', s = 15,\n",
        "                           title='MICE Imputation', colorbar=False)\n",
        "\n"
      ]
    },
    {
      "cell_type": "code",
      "execution_count": 35,
      "metadata": {
        "ExecuteTime": {
          "end_time": "2024-03-20T13:20:07.224530800Z",
          "start_time": "2024-03-20T13:20:07.013382700Z"
        },
        "colab": {
          "base_uri": "https://localhost:8080/",
          "height": 544
        },
        "id": "jOjf3UYELz60",
        "outputId": "3d79c106-bc52-480a-eb85-91d6ed059e05"
      },
      "outputs": [
        {
          "data": {
            "text/plain": [
              "Text(0.5, 1.0, 'MICE Imputation')"
            ]
          },
          "execution_count": 35,
          "metadata": {},
          "output_type": "execute_result"
        },
        {
          "data": {
            "image/png": "[encoded data removed]",
            "text/plain": [
              "<Figure size 640x480 with 1 Axes>"
            ]
          },
          "metadata": {},
          "output_type": "display_data"
        }
      ],
      "source": [
        "sns.histplot(\n",
        "    df_mice_imputed[\"Insulin\"], kde=True,\n",
        "    stat=\"density\", kde_kws=dict(cut=3)\n",
        ")\n",
        "plt.title('MICE Imputation')"
      ]
    },
    {
      "cell_type": "code",
      "execution_count": 36,
      "metadata": {
        "ExecuteTime": {
          "end_time": "2024-03-20T13:20:21.966461700Z",
          "start_time": "2024-03-20T13:20:21.949445900Z"
        },
        "id": "LVAmGsNBLz61"
      },
      "outputs": [],
      "source": [
        "# Comparacion de todos los métodos\n",
        "drop_rows = pd.Series(df_drop_rows[\"Insulin\"], name='drop_rows')\n",
        "df_mean_ins = pd.Series(df_mean[\"Insulin\"], name='Mean_Imp')\n",
        "df_median_ins = pd.Series(df_median[\"Insulin\"], name='Median_Imp')\n",
        "df_knn_ins = pd.Series(df_original[\"Insulin\"], name='KNN_Imp')\n",
        "df_mice_ins = pd.Series(df_mice_imputed[\"Insulin\"], name='MICE_Imp')"
      ]
    },
    {
      "cell_type": "code",
      "execution_count": 37,
      "metadata": {
        "ExecuteTime": {
          "end_time": "2024-03-20T13:20:33.603926Z",
          "start_time": "2024-03-20T13:20:33.587415200Z"
        },
        "colab": {
          "base_uri": "https://localhost:8080/",
          "height": 206
        },
        "id": "-RyEGjr3Lz61",
        "outputId": "cc67f243-98b3-4ba1-ec61-710cf0c9daea"
      },
      "outputs": [
        {
          "data": {
            "text/html": [
              "<div>\n",
              "<style scoped>\n",
              "    .dataframe tbody tr th:only-of-type {\n",
              "        vertical-align: middle;\n",
              "    }\n",
              "\n",
              "    .dataframe tbody tr th {\n",
              "        vertical-align: top;\n",
              "    }\n",
              "\n",
              "    .dataframe thead th {\n",
              "        text-align: right;\n",
              "    }\n",
              "</style>\n",
              "<table border=\"1\" class=\"dataframe\">\n",
              "  <thead>\n",
              "    <tr style=\"text-align: right;\">\n",
              "      <th></th>\n",
              "      <th>Mean_Imp</th>\n",
              "      <th>Median_Imp</th>\n",
              "      <th>KNN_Imp</th>\n",
              "      <th>MICE_Imp</th>\n",
              "    </tr>\n",
              "  </thead>\n",
              "  <tbody>\n",
              "    <tr>\n",
              "      <th>0</th>\n",
              "      <td>155.548223</td>\n",
              "      <td>125.0</td>\n",
              "      <td>253.2</td>\n",
              "      <td>218.788706</td>\n",
              "    </tr>\n",
              "    <tr>\n",
              "      <th>1</th>\n",
              "      <td>155.548223</td>\n",
              "      <td>125.0</td>\n",
              "      <td>51.6</td>\n",
              "      <td>68.765858</td>\n",
              "    </tr>\n",
              "    <tr>\n",
              "      <th>2</th>\n",
              "      <td>155.548223</td>\n",
              "      <td>125.0</td>\n",
              "      <td>243.0</td>\n",
              "      <td>267.615127</td>\n",
              "    </tr>\n",
              "    <tr>\n",
              "      <th>3</th>\n",
              "      <td>94.000000</td>\n",
              "      <td>94.0</td>\n",
              "      <td>94.0</td>\n",
              "      <td>94.000000</td>\n",
              "    </tr>\n",
              "    <tr>\n",
              "      <th>4</th>\n",
              "      <td>168.000000</td>\n",
              "      <td>168.0</td>\n",
              "      <td>168.0</td>\n",
              "      <td>168.000000</td>\n",
              "    </tr>\n",
              "  </tbody>\n",
              "</table>\n",
              "</div>"
            ],
            "text/plain": [
              "     Mean_Imp  Median_Imp  KNN_Imp    MICE_Imp\n",
              "0  155.548223       125.0    253.2  218.788706\n",
              "1  155.548223       125.0     51.6   68.765858\n",
              "2  155.548223       125.0    243.0  267.615127\n",
              "3   94.000000        94.0     94.0   94.000000\n",
              "4  168.000000       168.0    168.0  168.000000"
            ]
          },
          "execution_count": 37,
          "metadata": {},
          "output_type": "execute_result"
        }
      ],
      "source": [
        "df_all = pd.concat([df_mean_ins,df_median_ins,df_knn_ins,df_mice_ins],axis=1)\n",
        "df_all.head()"
      ]
    },
    {
      "cell_type": "code",
      "execution_count": 38,
      "metadata": {
        "ExecuteTime": {
          "end_time": "2024-03-20T13:20:38.146280800Z",
          "start_time": "2024-03-20T13:20:38.127718600Z"
        },
        "colab": {
          "base_uri": "https://localhost:8080/",
          "height": 89
        },
        "id": "OWEjgxEvLz62",
        "outputId": "d3db0b70-09b8-4341-a18b-d38118156b73"
      },
      "outputs": [
        {
          "data": {
            "text/html": [
              "<div>\n",
              "<style scoped>\n",
              "    .dataframe tbody tr th:only-of-type {\n",
              "        vertical-align: middle;\n",
              "    }\n",
              "\n",
              "    .dataframe tbody tr th {\n",
              "        vertical-align: top;\n",
              "    }\n",
              "\n",
              "    .dataframe thead th {\n",
              "        text-align: right;\n",
              "    }\n",
              "</style>\n",
              "<table border=\"1\" class=\"dataframe\">\n",
              "  <thead>\n",
              "    <tr style=\"text-align: right;\">\n",
              "      <th></th>\n",
              "      <th>mean</th>\n",
              "      <th>std</th>\n",
              "    </tr>\n",
              "  </thead>\n",
              "  <tbody>\n",
              "    <tr>\n",
              "      <th>drop_rows</th>\n",
              "      <td>155.548223</td>\n",
              "      <td>118.775855</td>\n",
              "    </tr>\n",
              "  </tbody>\n",
              "</table>\n",
              "</div>"
            ],
            "text/plain": [
              "                 mean         std\n",
              "drop_rows  155.548223  118.775855"
            ]
          },
          "execution_count": 38,
          "metadata": {},
          "output_type": "execute_result"
        }
      ],
      "source": [
        "\n",
        "\n",
        "df_dropped = drop_rows.to_frame()\n",
        "drop_desc = df_dropped.describe().loc[['mean', 'std']].T\n",
        "drop_desc\n",
        "\n"
      ]
    },
    {
      "cell_type": "code",
      "execution_count": 39,
      "metadata": {
        "ExecuteTime": {
          "end_time": "2024-03-20T13:20:45.046123100Z",
          "start_time": "2024-03-20T13:20:45.025083900Z"
        },
        "colab": {
          "base_uri": "https://localhost:8080/"
        },
        "id": "dJLcrXA6Lz62",
        "outputId": "85ede8e9-105c-418a-b5f4-27ff4f8b0e2c"
      },
      "outputs": [
        {
          "name": "stderr",
          "output_type": "stream",
          "text": [
            "C:\\Users\\Jeisson\\AppData\\Local\\Temp\\ipykernel_24988\\2303693841.py:1: FutureWarning:\n",
            "\n",
            "Series.__getitem__ treating keys as positions is deprecated. In a future version, integer keys will always be treated as labels (consistent with DataFrame behavior). To access a value by position, use `ser.iloc[pos]`\n",
            "\n"
          ]
        },
        {
          "data": {
            "text/plain": [
              "118.77585518724518"
            ]
          },
          "execution_count": 39,
          "metadata": {},
          "output_type": "execute_result"
        }
      ],
      "source": [
        "\n",
        "\n",
        "drop_desc['std'][0]\n",
        "\n"
      ]
    },
    {
      "cell_type": "code",
      "execution_count": 40,
      "metadata": {
        "ExecuteTime": {
          "end_time": "2024-03-20T13:20:51.510588700Z",
          "start_time": "2024-03-20T13:20:51.492095100Z"
        },
        "colab": {
          "base_uri": "https://localhost:8080/",
          "height": 174
        },
        "id": "EJTcaqiQLz63",
        "outputId": "6b91e863-c4b1-40e0-c2ef-3d6f1cedbe1e"
      },
      "outputs": [
        {
          "data": {
            "text/html": [
              "<div>\n",
              "<style scoped>\n",
              "    .dataframe tbody tr th:only-of-type {\n",
              "        vertical-align: middle;\n",
              "    }\n",
              "\n",
              "    .dataframe tbody tr th {\n",
              "        vertical-align: top;\n",
              "    }\n",
              "\n",
              "    .dataframe thead th {\n",
              "        text-align: right;\n",
              "    }\n",
              "</style>\n",
              "<table border=\"1\" class=\"dataframe\">\n",
              "  <thead>\n",
              "    <tr style=\"text-align: right;\">\n",
              "      <th></th>\n",
              "      <th>mean</th>\n",
              "      <th>std</th>\n",
              "    </tr>\n",
              "  </thead>\n",
              "  <tbody>\n",
              "    <tr>\n",
              "      <th>Mean_Imp</th>\n",
              "      <td>155.548223</td>\n",
              "      <td>85.021108</td>\n",
              "    </tr>\n",
              "    <tr>\n",
              "      <th>Median_Imp</th>\n",
              "      <td>140.671875</td>\n",
              "      <td>86.383060</td>\n",
              "    </tr>\n",
              "    <tr>\n",
              "      <th>KNN_Imp</th>\n",
              "      <td>155.905208</td>\n",
              "      <td>99.481817</td>\n",
              "    </tr>\n",
              "    <tr>\n",
              "      <th>MICE_Imp</th>\n",
              "      <td>152.564749</td>\n",
              "      <td>97.431556</td>\n",
              "    </tr>\n",
              "  </tbody>\n",
              "</table>\n",
              "</div>"
            ],
            "text/plain": [
              "                  mean        std\n",
              "Mean_Imp    155.548223  85.021108\n",
              "Median_Imp  140.671875  86.383060\n",
              "KNN_Imp     155.905208  99.481817\n",
              "MICE_Imp    152.564749  97.431556"
            ]
          },
          "execution_count": 40,
          "metadata": {},
          "output_type": "execute_result"
        }
      ],
      "source": [
        "df_desc = df_all.describe().loc[['mean', 'std']].T\n",
        "df_desc"
      ]
    },
    {
      "cell_type": "code",
      "execution_count": 41,
      "metadata": {
        "ExecuteTime": {
          "end_time": "2024-03-20T13:21:11.498094400Z",
          "start_time": "2024-03-20T13:21:11.302247600Z"
        },
        "colab": {
          "base_uri": "https://localhost:8080/",
          "height": 557
        },
        "id": "aZ0XUFMeLz63",
        "outputId": "6d212b4b-c586-4dde-d47b-b73cd72cc550"
      },
      "outputs": [
        {
          "name": "stderr",
          "output_type": "stream",
          "text": [
            "C:\\Users\\Jeisson\\AppData\\Local\\Temp\\ipykernel_24988\\3220686398.py:5: FutureWarning:\n",
            "\n",
            "Series.__getitem__ treating keys as positions is deprecated. In a future version, integer keys will always be treated as labels (consistent with DataFrame behavior). To access a value by position, use `ser.iloc[pos]`\n",
            "\n",
            "C:\\Users\\Jeisson\\AppData\\Local\\Temp\\ipykernel_24988\\3220686398.py:6: FutureWarning:\n",
            "\n",
            "Series.__getitem__ treating keys as positions is deprecated. In a future version, integer keys will always be treated as labels (consistent with DataFrame behavior). To access a value by position, use `ser.iloc[pos]`\n",
            "\n"
          ]
        },
        {
          "data": {
            "image/png": "[encoded data removed]",
            "text/plain": [
              "<Figure size 640x480 with 1 Axes>"
            ]
          },
          "metadata": {},
          "output_type": "display_data"
        }
      ],
      "source": [
        "\n",
        "# error bars\n",
        "# Define labels, positions, bar heights and error bar heights\n",
        "labels = ['Drop_Rows','Mean_Imp', 'Median_Imp', 'KNN_Imp', 'MICE_Imp']\n",
        "x_pos = np.arange(len(labels))\n",
        "CTEs = [drop_desc['mean'][0],df_desc[\"mean\"][0], df_desc[\"mean\"][1], df_desc[\"mean\"][2], df_desc[\"mean\"][3]]\n",
        "error = [drop_desc['std'][0],df_desc[\"std\"][0], df_desc[\"std\"][1], df_desc[\"std\"][2], df_desc[\"std\"][3]]\n",
        "\n",
        "# Build the plot\n",
        "fig, ax = plt.subplots()\n",
        "ax.bar(x_pos, CTEs,\n",
        "       yerr=error,\n",
        "       align='center',\n",
        "       alpha=0.5,\n",
        "       ecolor='black',\n",
        "       capsize=10)\n",
        "ax.set_ylabel('Insulin')\n",
        "ax.set_xticks(x_pos)\n",
        "ax.set_xticklabels(labels)\n",
        "ax.set_title('Comparison of Methods')\n",
        "ax.yaxis.grid(True)\n",
        "\n",
        "# Save the figure and show\n",
        "plt.tight_layout()\n",
        "plt.savefig('bar_plot_with_error_bars.png')\n",
        "plt.show()"
      ]
    },
    {
      "cell_type": "markdown",
      "metadata": {
        "collapsed": false,
        "id": "gvBjoD_GLz7A"
      },
      "source": [
        "\n",
        "\n",
        "    Removing missing data from the dataset seems to have increased the impact of outliers on std.\n",
        "\n",
        "    In mean and median imputation methods, it increases the weight at a single point. This is why std is being suppressed and causing the range to get shorter.\n",
        "\n",
        "    Knn and mice solve the problem of missing values without disturbing the normal distribution. In addition, mice seem less affected by outliers.\n",
        "\n",
        "Conclusion¶\n",
        "\n",
        "In this article, we analyze the results by applying different methods on how to deal with missing data. In the first stage, we identified missing data and analyzed the density in the data set visually and proportionally. We continued by coding how to deal with the detected missing data.\n",
        "\n",
        "First, we analyzed the results using dropping and simple imputation methods. Mean and median imputation for a variable with a high proportion of missing data gives biased results. Or it distorts the correlation with other variables. But we chose to go a little deeper and collaborate with other variables in the dataset. In this way, we realized that instead of considering variables separately from the dataset, it is more accurate to solve this problem by considering all variables together.\n",
        "\n",
        "Among the advanced imputation methods, we used KNN and MICE to fill in the missing data. The result gave a fairly accurate distribution compared to simple techniques."
      ]
    },
    {
      "cell_type": "code",
      "execution_count": null,
      "metadata": {
        "id": "Yb9_LvykLz7B"
      },
      "outputs": [],
      "source": []
    }
  ],
  "metadata": {
    "colab": {
      "provenance": []
    },
    "kernelspec": {
      "display_name": "Python 3",
      "language": "python",
      "name": "python3"
    },
    "language_info": {
      "codemirror_mode": {
        "name": "ipython",
        "version": 3
      },
      "file_extension": ".py",
      "mimetype": "text/x-python",
      "name": "python",
      "nbconvert_exporter": "python",
      "pygments_lexer": "ipython3",
      "version": "3.11.4"
    }
  },
  "nbformat": 4,
  "nbformat_minor": 0
}
