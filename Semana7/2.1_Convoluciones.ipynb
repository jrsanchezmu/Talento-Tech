{
 "cells": [
  {
   "cell_type": "code",
   "execution_count": 2,
   "metadata": {},
   "outputs": [
    {
     "name": "stdout",
     "output_type": "stream",
     "text": [
      "Señal de la convolución: [-1 -1  1  1]\n"
     ]
    }
   ],
   "source": [
    "import numpy as np\n",
    "\n",
    "# Definir las señales de entrada y el filtro\n",
    "x = np.array([2, 1, 0, 1, 2]) # Señal de entrada\n",
    "h = np.array([1, -1])\n",
    "\n",
    "# Realizar la convolución\n",
    "y = np.convolve(x, h, mode='valid')\n",
    "\n",
    "# Imprimir el resultado\n",
    "print(f'Señal de la convolución: {y}')\n"
   ]
  },
  {
   "cell_type": "code",
   "execution_count": 4,
   "metadata": {},
   "outputs": [
    {
     "name": "stdout",
     "output_type": "stream",
     "text": [
      "Matriz de salida déspues de la convolución [[5 7]\n",
      " [5 7]]\n"
     ]
    }
   ],
   "source": [
    "import numpy as np\n",
    "from scipy.signal import convolve2d\n",
    "\n",
    "# Definir la matriz de entrada (señal) y el kernel\n",
    "input_matrix = np.array([[1, 2, 3, 3],\n",
    "                        [4, 5, 6, 6],\n",
    "                        [7, 8, 9, 9],\n",
    "                        [7, 8, 9, 9]])\n",
    "\n",
    "kernel = np.array([[0, 1, 0],\n",
    "                  [-1, 1, -1],\n",
    "                  [0, 1, 0]])\n",
    "\n",
    "# Realizar la convolución 2D\n",
    "output_matrix = convolve2d(input_matrix, kernel, mode='valid')\n",
    "\n",
    "print(f'Matriz de salida déspues de la convolución {output_matrix}')"
   ]
  }
 ],
 "metadata": {
  "kernelspec": {
   "display_name": ".env",
   "language": "python",
   "name": "python3"
  },
  "language_info": {
   "codemirror_mode": {
    "name": "ipython",
    "version": 3
   },
   "file_extension": ".py",
   "mimetype": "text/x-python",
   "name": "python",
   "nbconvert_exporter": "python",
   "pygments_lexer": "ipython3",
   "version": "3.11.4"
  }
 },
 "nbformat": 4,
 "nbformat_minor": 2
}
