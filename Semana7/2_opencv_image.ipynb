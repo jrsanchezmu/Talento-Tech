{
 "cells": [
  {
   "cell_type": "code",
   "execution_count": 1,
   "metadata": {},
   "outputs": [],
   "source": [
    "import cv2\n",
    "\n",
    "#Cargar una imagen desde el archivo\n",
    "image = cv2.imread('imagen.jpg')\n",
    "\n",
    "#Mostrar la imagen en una ventana\n",
    "cv2.imshow('Imagen',image)\n",
    "\n",
    "#Esperar a que el usuario presione la tecla para cerrar la ventana.\n",
    "cv2.waitKey(0)\n",
    "\n",
    "#Cerrar las ventanas abiertas\n",
    "cv2.destroyAllWindows()"
   ]
  },
  {
   "cell_type": "code",
   "execution_count": 2,
   "metadata": {},
   "outputs": [],
   "source": [
    "import cv2\n",
    "import numpy as np\n",
    "\n",
    "#Cargar una imagen desde el archivo\n",
    "image = cv2.imread('imagen.jpg')\n",
    "\n",
    "# Obtener dimensiones de la imagen\n",
    "height, width = image.shape[:2]\n",
    "\n",
    "# Calcular el centro de la imagen\n",
    "center = (width/2, height/2)\n",
    "\n",
    "# Definir la matriz de rotación\n",
    "angle = 45\n",
    "M = cv2.getRotationMatrix2D(center, angle, 1.0)\n",
    "\n",
    "# Aplicar la rotación a la imagen\n",
    "rotated = cv2.warpAffine(image, M, (width, height))\n",
    "\n",
    "# Mostrar la imagen rotada\n",
    "cv2.imshow('Rotada', rotated)\n",
    "cv2.waitKey(0)\n",
    "cv2.destroyAllWindows()"
   ]
  },
  {
   "cell_type": "code",
   "execution_count": 3,
   "metadata": {},
   "outputs": [],
   "source": [
    "import cv2\n",
    "import numpy as np\n",
    "\n",
    "#Cargar una imagen desde el archivo\n",
    "image = cv2.imread('imagen.jpg')\n",
    "\n",
    "# Definir la matriz de traslación\n",
    "tx, ty = 100, 50\n",
    "M = np.float32([[1, 0, tx], [0, 1, ty]])\n",
    "\n",
    "# Aplicar la traslación a la imagen\n",
    "translated = cv2.warpAffine(image, M, (image.shape[1], image.shape[0]))\n",
    "\n",
    "# Mostrar la imagen trasladada\n",
    "cv2.imshow('Traslación', translated)\n",
    "cv2.waitKey(0)\n",
    "cv2.destroyAllWindows()\n"
   ]
  },
  {
   "cell_type": "code",
   "execution_count": 1,
   "metadata": {},
   "outputs": [],
   "source": [
    "import cv2\n",
    "import numpy as np\n",
    "\n",
    "#Cargar una imagen desde el archivo\n",
    "image = cv2.imread('imagen.jpg')\n",
    "\n",
    "# Definir la nueva altura y anchura\n",
    "new_width, new_height = 300, 200\n",
    "\n",
    "# Aplicar la escala a la imagen\n",
    "scaled = cv2.resize(image, (new_width, new_height))\n",
    "\n",
    "# Mostrar la imagen escalada\n",
    "cv2.imshow('Escalada', scaled)\n",
    "cv2.waitKey(0)\n",
    "cv2.destroyAllWindows()\n"
   ]
  },
  {
   "cell_type": "code",
   "execution_count": 2,
   "metadata": {},
   "outputs": [],
   "source": [
    "import cv2\n",
    "import numpy as np\n",
    "\n",
    "#Cargar una imagen desde el archivo\n",
    "image = cv2.imread('imagen.jpg')\n",
    "\n",
    "# DAplicar el filtro Gaussiano para suavizar la imagen\n",
    "smoothed = cv2.GaussianBlur(image, (5,5), 0)\n",
    "\n",
    "\n",
    "# Mostrar la imagen suavizada\n",
    "cv2.imshow('Suavizado', smoothed)\n",
    "cv2.waitKey(0)\n",
    "cv2.destroyAllWindows()"
   ]
  },
  {
   "cell_type": "code",
   "execution_count": 3,
   "metadata": {},
   "outputs": [],
   "source": [
    "import cv2\n",
    "import numpy as np\n",
    "\n",
    "#Cargar una imagen desde el archivo\n",
    "image = cv2.imread('imagen.jpg')\n",
    "\n",
    "# Definir el kernel para el filtro de afilado\n",
    "kernel = np.array([[-1,-1,-1],\n",
    "                   [-1,9,-1],\n",
    "                   [-1,-1,-1]])\n",
    "\n",
    "# Aplicar el filtro de afilado para realizar los detalles\n",
    "sharpened = cv2.filter2D(image, -1, kernel)\n",
    "\n",
    "# Mostrar la imagen realzada\n",
    "cv2.imshow('Realce', sharpened)\n",
    "cv2.waitKey(0)\n",
    "cv2.destroyAllWindows()"
   ]
  },
  {
   "cell_type": "code",
   "execution_count": 4,
   "metadata": {},
   "outputs": [],
   "source": [
    "import cv2\n",
    "\n",
    "# Cargar la imagen en escala de grises\n",
    "image = cv2.imread('imagen.jpg', cv2.IMREAD_GRAYSCALE)\n",
    "\n",
    "# Aplicar el operador SOBEL para detectar bordes\n",
    "sobelx = cv2.Sobel(image, cv2.CV_64F, 1, 0, ksize=5)\n",
    "sobely = cv2.Sobel(image, cv2.CV_64F, 0, 1, ksize=5)\n",
    "\n",
    "# Combinar las respuestas en magnitud\n",
    "edges = cv2.magnitude(sobelx, sobely)\n",
    "\n",
    "# Normalizar los valores para mostrar la imagen correctamente\n",
    "edges = cv2.normalize(edges, None, 0, 255, cv2.NORM_MINMAX, dtype=cv2.CV_8U)\n",
    "\n",
    "# Mostrar la imagen con bordes detectados\n",
    "cv2.imshow('Detección de Bordes', edges)\n",
    "cv2.waitKey(0)\n",
    "cv2.destroyAllWindows()"
   ]
  }
 ],
 "metadata": {
  "kernelspec": {
   "display_name": ".env",
   "language": "python",
   "name": "python3"
  },
  "language_info": {
   "codemirror_mode": {
    "name": "ipython",
    "version": 3
   },
   "file_extension": ".py",
   "mimetype": "text/x-python",
   "name": "python",
   "nbconvert_exporter": "python",
   "pygments_lexer": "ipython3",
   "version": "3.11.4"
  }
 },
 "nbformat": 4,
 "nbformat_minor": 2
}
